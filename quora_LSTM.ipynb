{
 "cells": [
  {
   "cell_type": "code",
   "execution_count": 1,
   "metadata": {},
   "outputs": [],
   "source": [
    "\n",
    "import os\n",
    "import numpy as np \n",
    "import pandas as pd \n",
    "from tqdm import tqdm\n",
    "import math\n",
    "from sklearn.model_selection import train_test_split\n",
    "from sklearn.metrics import f1_score"
   ]
  },
  {
   "cell_type": "code",
   "execution_count": 2,
   "metadata": {},
   "outputs": [],
   "source": [
    "train_df = pd.read_csv(\"./input/train.csv\")\n",
    "train_df, val_df = train_test_split(train_df, test_size=0.1)"
   ]
  },
  {
   "cell_type": "code",
   "execution_count": 3,
   "metadata": {},
   "outputs": [
    {
     "name": "stderr",
     "output_type": "stream",
     "text": [
      "2196017it [01:45, 20866.79it/s]"
     ]
    },
    {
     "name": "stdout",
     "output_type": "stream",
     "text": [
      "Found 2196016 word vectors.\n"
     ]
    },
    {
     "name": "stderr",
     "output_type": "stream",
     "text": [
      "\n"
     ]
    }
   ],
   "source": [
    "emb_index = {}\n",
    "emb_file = open('./input/embeddings/glove.840B.300d/glove.840B.300d.txt')\n",
    "for line in tqdm(emb_file):\n",
    "    emb_values = line.split(\" \")\n",
    "    word = emb_values[0]\n",
    "    vecs = np.asarray(emb_values[1:], dtype='float32')\n",
    "    emb_index[word] = vecs\n",
    "emb_file.close()\n",
    "\n",
    "print('Found %s word vectors.' % len(emb_index))"
   ]
  },
  {
   "cell_type": "code",
   "execution_count": 4,
   "metadata": {},
   "outputs": [],
   "source": [
    "TIME_STEP = 30\n",
    "EMB_VEC_SIZE = 300\n",
    "BATCH_SIZE = 128\n",
    "def text_to_vec(text):\n",
    "    init_emb = np.zeros(EMB_VEC_SIZE)\n",
    "    text = text[:-1].split()[:TIME_STEP]\n",
    "    embeds = [emb_index.get(x, init_emb) for x in text]\n",
    "    embeds+= [init_emb] * (TIME_STEP - len(embeds))\n",
    "    return np.array(embeds)\n"
   ]
  },
  {
   "cell_type": "code",
   "execution_count": 5,
   "metadata": {},
   "outputs": [],
   "source": [
    "\n",
    "def train_gen(train_df, shuffle=False):\n",
    "    n_batches = math.ceil(len(train_df) / BATCH_SIZE)\n",
    "    while True: \n",
    "        if(shuffle==True):\n",
    "            train_df = train_df.sample(frac=1.)  # Shuffle the data.\n",
    "        for i in range(n_batches):\n",
    "            texts = train_df.iloc[i*BATCH_SIZE:(i+1)*BATCH_SIZE, 1]\n",
    "            text_arr = np.array([text_to_vec(text) for text in texts])\n",
    "            yield text_arr, np.array(train_df[\"target\"][i*BATCH_SIZE:(i+1)*BATCH_SIZE])"
   ]
  },
  {
   "cell_type": "code",
   "execution_count": 6,
   "metadata": {},
   "outputs": [
    {
     "name": "stderr",
     "output_type": "stream",
     "text": [
      "Using TensorFlow backend.\n"
     ]
    }
   ],
   "source": [
    "from keras.models import  Model\n",
    "from keras.layers import LSTM, Dense, Bidirectional, Input, CuDNNLSTM\n",
    "from tensorflow.python.client import device_lib"
   ]
  },
  {
   "cell_type": "code",
   "execution_count": 7,
   "metadata": {},
   "outputs": [],
   "source": [
    "def get_available_gpus():\n",
    "        local_device_protos = device_lib.list_local_devices()\n",
    "        return [x.name for x in local_device_protos if x.device_type == 'GPU']\n",
    "    \n",
    "def get_base_model(input):\n",
    "\n",
    "  num_gpus = get_available_gpus()\n",
    "  #print(len(num_gpus))\n",
    "  #Build LSTM network\n",
    "\n",
    "  if(len(num_gpus)>0):\n",
    "    first_lstm = Bidirectional(CuDNNLSTM(64, return_sequences=True, name='lstm1'))(input)\n",
    "    second_lstm = Bidirectional(CuDNNLSTM(64, name='lstm2'))(first_lstm)\n",
    "  else:  \n",
    "    first_lstm = Bidirectional(LSTM(64, return_sequences=True, name='lstm1'))(input)\n",
    "    second_lstm = Bidirectional(LSTM(64, name='lstm2'))(first_lstm)\n",
    "  outputs = Dense(1, activation=\"sigmoid\", name='last')(second_lstm)\n",
    "  \n",
    "  #create model LSTM+dense\n",
    "  l_model = Model(input, outputs) \n",
    "  \n",
    "  return(l_model)"
   ]
  },
  {
   "cell_type": "code",
   "execution_count": 8,
   "metadata": {},
   "outputs": [
    {
     "name": "stdout",
     "output_type": "stream",
     "text": [
      "WARNING:tensorflow:From /home/user1/anaconda3/lib/python3.7/site-packages/tensorflow/python/framework/op_def_library.py:263: colocate_with (from tensorflow.python.framework.ops) is deprecated and will be removed in a future version.\n",
      "Instructions for updating:\n",
      "Colocations handled automatically by placer.\n"
     ]
    }
   ],
   "source": [
    "features = Input(shape=(TIME_STEP, EMB_VEC_SIZE))\n",
    "model = get_base_model(features)\n",
    "model.compile(loss='binary_crossentropy',\n",
    "              optimizer='adam',\n",
    "              metrics=['accuracy'])"
   ]
  },
  {
   "cell_type": "code",
   "execution_count": 9,
   "metadata": {},
   "outputs": [
    {
     "name": "stdout",
     "output_type": "stream",
     "text": [
      "WARNING:tensorflow:From /home/user1/anaconda3/lib/python3.7/site-packages/tensorflow/python/ops/math_ops.py:3066: to_int32 (from tensorflow.python.ops.math_ops) is deprecated and will be removed in a future version.\n",
      "Instructions for updating:\n",
      "Use tf.cast instead.\n",
      "Epoch 1/1\n",
      "9183/9183 [==============================] - 760s 83ms/step - loss: 0.1135 - acc: 0.9554 - val_loss: 0.1038 - val_acc: 0.9590\n"
     ]
    },
    {
     "data": {
      "text/plain": [
       "<keras.callbacks.History at 0x7f4a45567160>"
      ]
     },
     "execution_count": 9,
     "metadata": {},
     "output_type": "execute_result"
    }
   ],
   "source": [
    "\n",
    "train_generator = train_gen(train_df, True)\n",
    "validation_generator = train_gen(val_df, False)\n",
    "model.fit_generator(train_generator,\n",
    "                    steps_per_epoch=int(len(train_df) / BATCH_SIZE),\n",
    "                    validation_data=validation_generator,\n",
    "                    validation_steps = int(len(val_df) / BATCH_SIZE),\n",
    "                    epochs=1,\n",
    "                    verbose=True)"
   ]
  },
  {
   "cell_type": "code",
   "execution_count": 10,
   "metadata": {},
   "outputs": [],
   "source": [
    "def test_gen(train_df):\n",
    "    n_batches = math.ceil(len(train_df) / BATCH_SIZE)\n",
    "    for i in range(n_batches):\n",
    "            texts = train_df.iloc[i*BATCH_SIZE:(i+1)*BATCH_SIZE, 1]\n",
    "            text_arr = np.array([text_to_vec(text) for text in texts])\n",
    "            yield text_arr, np.array(train_df[\"target\"][i*BATCH_SIZE:(i+1)*BATCH_SIZE])"
   ]
  },
  {
   "cell_type": "code",
   "execution_count": 11,
   "metadata": {},
   "outputs": [
    {
     "name": "stderr",
     "output_type": "stream",
     "text": [
      "1021it [01:01, 16.54it/s]\n"
     ]
    }
   ],
   "source": [
    "y_test = []\n",
    "y_preds = []\n",
    "for x, y in tqdm(test_gen(val_df)):\n",
    "    y_preds.extend(model.predict(x))\n",
    "    y_test.extend(y)"
   ]
  },
  {
   "cell_type": "code",
   "execution_count": 12,
   "metadata": {},
   "outputs": [
    {
     "name": "stdout",
     "output_type": "stream",
     "text": [
      "0.6432515133373246\n"
     ]
    }
   ],
   "source": [
    "y1 = np.array(y_preds)\n",
    "y2 = np.array(y_test)\n",
    "y11 = y1.squeeze()\n",
    "y1 = y11 > 0.5\n",
    "y1 = y1.astype(np.int)        \n",
    "score = f1_score(y2, y1)\n",
    "print(score)    "
   ]
  },
  {
   "cell_type": "code",
   "execution_count": 18,
   "metadata": {},
   "outputs": [
    {
     "data": {
      "image/png": "[encoded data removed]",
      "text/plain": [
       "<Figure size 432x288 with 2 Axes>"
      ]
     },
     "metadata": {
      "needs_background": "light"
     },
     "output_type": "display_data"
    }
   ],
   "source": [
    "from sklearn.metrics import classification_report, confusion_matrix\n",
    "import scikitplot as skplt\n",
    "import seaborn as sns\n",
    "import matplotlib.pyplot as plt\n",
    "%matplotlib inline\n",
    "\n",
    "def get_confusion_matrix(test_y, pred,title):\n",
    "    cm=confusion_matrix(pred,test_y)\n",
    "   \n",
    "    fig = plt.figure()\n",
    "    sns.heatmap(cm, cmap='YlGnBu', annot=True)\n",
    "    plt.title(title)\n",
    "    plt.xlabel('True labels')\n",
    "    plt.ylabel('Predicted labels')\n",
    "    plt.show()\n",
    "    fig.savefig('InitModel_confusion_matrix')\n",
    " \n",
    "get_confusion_matrix(y2,y1,'Confusion_matrix InitModel')    "
   ]
  },
  {
   "cell_type": "code",
   "execution_count": 15,
   "metadata": {},
   "outputs": [
    {
     "name": "stdout",
     "output_type": "stream",
     "text": [
      "Precision: 0.691 Recall: 0.601\n"
     ]
    }
   ],
   "source": [
    "from sklearn.metrics import recall_score, precision_score\n",
    "r = recall_score(y2, y1, average='binary')\n",
    "p = precision_score(y2, y1, average='binary')\n",
    "print('Precision: {:.3f} Recall: {:.3f}'.format(p, r))"
   ]
  },
  {
   "cell_type": "code",
   "execution_count": null,
   "metadata": {},
   "outputs": [],
   "source": []
  }
 ],
 "metadata": {
  "kernelspec": {
   "display_name": "Python 3",
   "language": "python",
   "name": "python3"
  },
  "language_info": {
   "codemirror_mode": {
    "name": "ipython",
    "version": 3
   },
   "file_extension": ".py",
   "mimetype": "text/x-python",
   "name": "python",
   "nbconvert_exporter": "python",
   "pygments_lexer": "ipython3",
   "version": "3.7.3"
  }
 },
 "nbformat": 4,
 "nbformat_minor": 2
}
