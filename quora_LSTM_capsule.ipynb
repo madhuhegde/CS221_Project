{
 "cells": [
  {
   "cell_type": "code",
   "execution_count": 1,
   "metadata": {
    "_cell_guid": "b1076dfc-b9ad-4769-8c92-a6c4dae69d19",
    "_uuid": "8f2839f25d086af736a60e9eeb907d3b93b6e0e5"
   },
   "outputs": [
    {
     "name": "stderr",
     "output_type": "stream",
     "text": [
      "Using TensorFlow backend.\n"
     ]
    },
    {
     "name": "stdout",
     "output_type": "stream",
     "text": [
      "0\n"
     ]
    }
   ],
   "source": [
    "from keras.backend.tensorflow_backend import set_session\n",
    "from keras.backend.tensorflow_backend import clear_session\n",
    "from keras.backend.tensorflow_backend import get_session\n",
    "import tensorflow\n",
    "import gc\n",
    "\n",
    "# Reset Keras Session\n",
    "def reset_keras():\n",
    "    sess = get_session()\n",
    "    clear_session()\n",
    "    sess.close()\n",
    "    sess = get_session()\n",
    "\n",
    "    try:\n",
    "        del classifier # this is from global space - change this as you need\n",
    "    except:\n",
    "        pass\n",
    "\n",
    "    print(gc.collect()) # if it's done something you should see a number being outputted\n",
    "\n",
    "    # use the same config as you used to create the session\n",
    "    config = tensorflow.ConfigProto()\n",
    "    config.gpu_options.per_process_gpu_memory_fraction = 1\n",
    "    config.gpu_options.visible_device_list = \"0\"\n",
    "    set_session(tensorflow.Session(config=config))\n",
    "    \n",
    "reset_keras()    "
   ]
  },
  {
   "cell_type": "code",
   "execution_count": 2,
   "metadata": {
    "_uuid": "b378958a9606ac48fe0dc54e24bed4cd503e0ac7"
   },
   "outputs": [],
   "source": [
    "import pandas as pd\n",
    "import numpy as np\n",
    "from tqdm import tqdm\n",
    "tqdm.pandas()\n",
    "from sklearn.model_selection import train_test_split, StratifiedKFold\n",
    "from sklearn import metrics\n",
    "import matplotlib.pyplot as plt\n",
    "\n",
    "from keras.layers import Dense, Input, CuDNNLSTM, Embedding, Dropout, Activation, Bidirectional, SpatialDropout1D\n",
    "from keras.layers import BatchNormalization, Flatten\n",
    "from keras.models import Model, load_model\n",
    "from keras import initializers, regularizers, constraints, optimizers, layers\n",
    "from keras.preprocessing.text import Tokenizer\n",
    "from keras.preprocessing.sequence import pad_sequences\n",
    "from keras.layers import Layer\n",
    "\n",
    "from keras.initializers import *\n",
    "from keras.optimizers import Nadam\n",
    "import keras.backend as K\n",
    "from keras.callbacks import ModelCheckpoint, ReduceLROnPlateau, EarlyStopping, Callback\n",
    "import tensorflow as tf\n",
    "import os\n",
    "import time\n",
    "import gc\n",
    "import re\n"
   ]
  },
  {
   "cell_type": "code",
   "execution_count": 3,
   "metadata": {},
   "outputs": [
    {
     "name": "stdout",
     "output_type": "stream",
     "text": [
      "Train shape :  (1306122, 3)\n"
     ]
    }
   ],
   "source": [
    "train_df = pd.read_csv(\"./input/train.csv\")\n",
    "\n",
    "print(\"Train shape : \",train_df.shape)\n",
    "train_df, test_df = train_test_split(train_df, test_size=0.1, random_state=2019)\n"
   ]
  },
  {
   "cell_type": "code",
   "execution_count": 4,
   "metadata": {
    "_uuid": "6d336bfef799c16f12f2d02ffa4f3c2eaaf6ef34"
   },
   "outputs": [],
   "source": [
    "\n",
    "puncts = [',', '.', '\"', ':', ')', '(', '-', '!', '?', '|', ';', \"'\", '$', '&', '/', '[', ']', '>', '%', '=', '#', '*', '+', '\\\\', '•',  '~', '@', '£', \n",
    " '·', '_', '{', '}', '©', '^', '®', '`',  '<', '→', '°', '€', '™', '›',  '♥', '←', '×', '§', '″', '′', 'Â', '█', '½', 'à', '…', \n",
    " '“', '★', '”', '–', '●', 'â', '►', '−', '¢', '²', '¬', '░', '¶', '↑', '±', '¿', '▾', '═', '¦', '║', '―', '¥', '▓', '—', '‹', '─', \n",
    " '▒', '：', '¼', '⊕', '▼', '▪', '†', '■', '’', '▀', '¨', '▄', '♫', '☆', 'é', '¯', '♦', '¤', '▲', 'è', '¸', '¾', 'Ã', '⋅', '‘', '∞', \n",
    " '∙', '）', '↓', '、', '│', '（', '»', '，', '♪', '╩', '╚', '³', '・', '╦', '╣', '╔', '╗', '▬', '❤', 'ï', 'Ø', '¹', '≤', '‡', '√', ]\n",
    "def clean_text(x):\n",
    "\n",
    "    x = str(x)\n",
    "    for punct in puncts:\n",
    "        x = x.replace(punct, f' {punct} ')\n",
    "    return x\n",
    "\n",
    "\n",
    "train_df[\"question_text\"] = train_df[\"question_text\"].apply(lambda x: clean_text(x))\n",
    "test_df[\"question_text\"] = test_df[\"question_text\"].apply(lambda x: clean_text(x))\n",
    "\n",
    "\n",
    "\n"
   ]
  },
  {
   "cell_type": "code",
   "execution_count": 5,
   "metadata": {
    "_uuid": "87b0cf1880df72c47d8a882e6441aaa07dacfd9c"
   },
   "outputs": [],
   "source": [
    "## some config values \n",
    "embed_size = 300 # how big is each word vector\n",
    "max_features = None # how many unique words to use (i.e num rows in embedding vector)\n",
    "maxlen = 70 # max number of words in a question to use #99.99%\n",
    "\n",
    "## fill up the missing values\n",
    "X = train_df[\"question_text\"].fillna(\"_na_\").values\n",
    "X_test = test_df[\"question_text\"].fillna(\"_na_\").values\n",
    "\n",
    "## Tokenize the sentences\n",
    "tokenizer = Tokenizer(num_words=max_features, filters='') # lower=False)\n",
    "tokenizer.fit_on_texts(list(X))\n",
    "\n",
    "X = tokenizer.texts_to_sequences(X)\n",
    "X_test = tokenizer.texts_to_sequences(X_test)\n",
    "\n",
    "## Pad the sentences \n",
    "X = pad_sequences(X, maxlen=maxlen,truncating='post')\n",
    "X_test = pad_sequences(X_test, maxlen=maxlen, truncating='post')\n",
    "\n",
    "## Get the target values\n",
    "Y = train_df['target'].values\n",
    "Y_test = test_df['target'].values\n",
    "\n"
   ]
  },
  {
   "cell_type": "code",
   "execution_count": 6,
   "metadata": {
    "_uuid": "259d359c2fd45efd7ccd1a18db69fbb7fe7ad8d2"
   },
   "outputs": [
    {
     "data": {
      "text/plain": [
       "27"
      ]
     },
     "execution_count": 6,
     "metadata": {},
     "output_type": "execute_result"
    }
   ],
   "source": [
    "del train_df, test_df\n",
    "gc.collect()"
   ]
  },
  {
   "cell_type": "code",
   "execution_count": 7,
   "metadata": {
    "_uuid": "26e110fe2c74167bf02fda50e7cd9cbb897dca57"
   },
   "outputs": [],
   "source": [
    "word_index = tokenizer.word_index\n",
    "max_features = len(word_index)+1\n",
    "def load_glove(word_index):\n",
    "    EMBEDDING_FILE = './input/embeddings/glove.840B.300d/glove.840B.300d.txt'\n",
    "    def get_coefs(word,*arr): return word, np.asarray(arr, dtype='float32')\n",
    "    embeddings_index = dict(get_coefs(*o.split(\" \")) for o in open(EMBEDDING_FILE) if o.split(\" \")[0] in word_index)\n",
    "\n",
    "    all_embs = np.stack(embeddings_index.values())\n",
    "    emb_mean,emb_std = all_embs.mean(), all_embs.std()\n",
    "    embed_size = all_embs.shape[1]\n",
    "\n",
    "    embedding_matrix = np.random.normal(emb_mean, emb_std, (max_features, embed_size))\n",
    "    for word, i in word_index.items():\n",
    "        if i >= max_features: continue\n",
    "        embedding_vector = embeddings_index.get(word)\n",
    "        if embedding_vector is not None: embedding_matrix[i] = embedding_vector\n",
    "            \n",
    "    return embedding_matrix \n",
    " \n",
    "def load_para(word_index):\n",
    "    EMBEDDING_FILE = './input/embeddings/paragram_300_sl999/paragram_300_sl999.txt'\n",
    "    def get_coefs(word,*arr): return word, np.asarray(arr, dtype='float32')\n",
    "    embeddings_index = dict(get_coefs(*o.split(\" \")) for o in open(EMBEDDING_FILE, encoding=\"utf8\", errors='ignore') if len(o)>100 and o.split(\" \")[0] in word_index)\n",
    "\n",
    "    all_embs = np.stack(embeddings_index.values())\n",
    "    emb_mean,emb_std = all_embs.mean(), all_embs.std()\n",
    "    embed_size = all_embs.shape[1]\n",
    "    \n",
    "    embedding_matrix = np.random.normal(emb_mean, emb_std, (max_features, embed_size))\n",
    "    for word, i in word_index.items():\n",
    "        if i >= max_features: continue\n",
    "        embedding_vector = embeddings_index.get(word)\n",
    "        if embedding_vector is not None: embedding_matrix[i] = embedding_vector\n",
    "    \n",
    "    return embedding_matrix"
   ]
  },
  {
   "cell_type": "code",
   "execution_count": 8,
   "metadata": {
    "_uuid": "2505794d8ebc30884ccc6a9a9a17a3a1af12bd29"
   },
   "outputs": [
    {
     "name": "stderr",
     "output_type": "stream",
     "text": [
      "/home/user1/anaconda3/lib/python3.7/site-packages/ipykernel_launcher.py:8: FutureWarning: arrays to stack must be passed as a \"sequence\" type such as list or tuple. Support for non-sequence iterables such as generators is deprecated as of NumPy 1.16 and will raise an error in the future.\n",
      "  \n",
      "/home/user1/anaconda3/lib/python3.7/site-packages/ipykernel_launcher.py:25: FutureWarning: arrays to stack must be passed as a \"sequence\" type such as list or tuple. Support for non-sequence iterables such as generators is deprecated as of NumPy 1.16 and will raise an error in the future.\n"
     ]
    },
    {
     "data": {
      "text/plain": [
       "(185582, 300)"
      ]
     },
     "execution_count": 8,
     "metadata": {},
     "output_type": "execute_result"
    }
   ],
   "source": [
    "emb_matrix_1 = load_glove(word_index)\n",
    "emb_matrix_2 = load_para(word_index)\n",
    "embedding_matrix = np.add(0.7*emb_matrix_1, 0.3*emb_matrix_2)\n",
    "del emb_matrix_1, emb_matrix_2\n",
    "gc.collect()\n",
    "np.shape(embedding_matrix)"
   ]
  },
  {
   "cell_type": "code",
   "execution_count": 9,
   "metadata": {
    "_uuid": "b75ab7890f8d51c008b47d994011f88a35de36a7"
   },
   "outputs": [],
   "source": [
    "#def squash(vectors, axis=-1):\n",
    "  \n",
    "    #_squared_norm = K.sum(K.square(vectors), axis, keepdims=True)\n",
    "    #cale = s_squared_norm / (1 + s_squared_norm) / K.sqrt(s_squared_norm)\n",
    "    #eturn scale * vectors\n",
    "    #s_squared_norm = K.sum(K.square(vectors, keepdims=True)\n",
    "    #scale = K.sqrt(s_squared_norm + K.epsilon())\n",
    "    #return vectors/scale\n",
    "                           \n",
    "def squash(x, axis=-1):\n",
    " \n",
    "    s_squared_norm = K.sum(K.square(x), axis, keepdims=True)\n",
    "    scale = K.sqrt(s_squared_norm + K.epsilon())\n",
    "    return x / scale                           \n",
    "\n",
    "# A Capsule Implementation from Keras example\n",
    "class Capsule(Layer):\n",
    "    def __init__(self, num_capsule, dim_capsule, routings=3, kernel_size=(9, 1), share_weights=True,\n",
    "                 activation='default', **kwargs):\n",
    "        super(Capsule, self).__init__(**kwargs)\n",
    "        self.num_capsule = num_capsule\n",
    "        self.dim_capsule = dim_capsule\n",
    "        self.routings = routings\n",
    "        self.kernel_size = kernel_size\n",
    "        self.share_weights = share_weights\n",
    "        if activation == 'default':\n",
    "            self.activation = squash\n",
    "        else:\n",
    "            self.activation = Activation(activation)\n",
    "\n",
    "    def build(self, input_shape):\n",
    "        super(Capsule, self).build(input_shape)\n",
    "        input_dim_capsule = input_shape[-1]\n",
    "        if self.share_weights:\n",
    "            self.W = self.add_weight(name='capsule_kernel',\n",
    "                                     shape=(1, input_dim_capsule,\n",
    "                                     self.num_capsule * self.dim_capsule),\n",
    "                                     initializer='glorot_uniform',\n",
    "                                     trainable=True)\n",
    "        else:\n",
    "            input_num_capsule = input_shape[-2]\n",
    "            self.W = self.add_weight(name='capsule_kernel',\n",
    "                                     shape=(input_num_capsule,\n",
    "                                     input_dim_capsule,\n",
    "                                     self.num_capsule * self.dim_capsule),\n",
    "                                     initializer='glorot_uniform',\n",
    "                                     trainable=True)\n",
    "\n",
    "    def call(self, u_vecs):\n",
    "        if self.share_weights:\n",
    "            u_hat_vecs = K.conv1d(u_vecs, self.W)\n",
    "        else:\n",
    "            u_hat_vecs = K.local_conv1d(u_vecs, self.W, [1], [1])\n",
    "\n",
    "        batch_size = K.shape(u_vecs)[0]\n",
    "        input_num_capsule = K.shape(u_vecs)[1]\n",
    "        u_hat_vecs = K.reshape(u_hat_vecs, (batch_size, input_num_capsule,\n",
    "                                            self.num_capsule, self.dim_capsule))\n",
    "        u_hat_vecs = K.permute_dimensions(u_hat_vecs, (0, 2, 1, 3))\n",
    "      \n",
    "        b = K.zeros_like(u_hat_vecs[:, :, :, 0])  \n",
    "        for i in range(self.routings):\n",
    "            b = K.permute_dimensions(b, (0, 2, 1))  \n",
    "            c = K.softmax(b)\n",
    "            c = K.permute_dimensions(c, (0, 2, 1))\n",
    "            b = K.permute_dimensions(b, (0, 2, 1))\n",
    "            outputs = self.activation(tf.keras.backend.batch_dot(c, u_hat_vecs, [2, 2]))\n",
    "            if i < self.routings - 1:\n",
    "                b = tf.keras.backend.batch_dot(outputs, u_hat_vecs, [2, 3])\n",
    "\n",
    "        return outputs\n",
    "\n",
    "    def compute_output_shape(self, input_shape):\n",
    "        return (None, self.num_capsule, self.dim_capsule)"
   ]
  },
  {
   "cell_type": "code",
   "execution_count": 10,
   "metadata": {
    "_uuid": "6d9ba67784a576692b6f38c931e3c012eff539d7"
   },
   "outputs": [],
   "source": [
    "def model_final():\n",
    "    K.clear_session()       \n",
    "    inp = Input(shape=(maxlen,))\n",
    "    emb_out = Embedding(max_features, embed_size, weights=[embedding_matrix], trainable=False)(inp)\n",
    "    sd_out = SpatialDropout1D(rate=0.2)(emb_out)\n",
    "    lstm_out = Bidirectional(CuDNNLSTM(100, return_sequences=True, \n",
    "                             kernel_initializer=glorot_normal(seed=12342), \n",
    "                             recurrent_initializer=orthogonal(gain=1.0, seed=12343)))(sd_out)\n",
    "\n",
    "    cap_out = Capsule(num_capsule=10, dim_capsule=10, routings=4, share_weights=True)(lstm_out)\n",
    "    fl_out = Flatten()(cap_out)\n",
    "\n",
    "    d_out = Dense(100, activation=\"relu\", kernel_initializer=glorot_normal(seed=12346))(fl_out)\n",
    "    drop_out = Dropout(0.12)(d_out)\n",
    "    bn_out = BatchNormalization()(drop_out)\n",
    "   \n",
    "    final_out = Dense(1, activation=\"sigmoid\")(bn_out)\n",
    "   \n",
    "    model = Model(inputs=inp, outputs=final_out)\n",
    "    model.compile(loss='binary_crossentropy', optimizer=Nadam(),metrics=['accuracy'])\n",
    "    #model.summary()\n",
    "    return model"
   ]
  },
  {
   "cell_type": "code",
   "execution_count": 11,
   "metadata": {
    "_uuid": "b5a8d1d9ceff06d19f32ccefa62c601d08a4fd0c"
   },
   "outputs": [],
   "source": [
    "def f1_opt_thresh(y_true, y_pred):\n",
    "   \n",
    "    f1_max = 0\n",
    "    opt_thresh = 0\n",
    "\n",
    "    for thresh in np.arange(0.2, 0.601, 0.01):\n",
    "        thresh = np.round(thresh, 2)\n",
    " \n",
    "        f1_score = metrics.f1_score(y_true, (y_pred>thresh).astype(int))\n",
    "        if(f1_score > f1_max):\n",
    "            f1_max = f1_score\n",
    "            opt_thresh = thresh\n",
    "    \n",
    "    return(f1_max, opt_thresh)"
   ]
  },
  {
   "cell_type": "code",
   "execution_count": 12,
   "metadata": {},
   "outputs": [],
   "source": [
    "\n",
    "\n",
    "class History(Callback):\n",
    "    def on_train_begin(self, logs={}):\n",
    "        self.train_loss = []\n",
    "        self.train_acc = []\n",
    "        self.val_acc = []\n",
    "        self.val_loss = []\n",
    "        for keys in logs:\n",
    "           print(keys) \n",
    "\n",
    "    def on_batch_end(self, batch, logs={}):\n",
    "        self.train_loss.append(logs.get('loss'))\n",
    "        self.train_acc.append(logs.get('acc'))\n",
    "    #Store val_acc/loss per batch    \n",
    "    def on_epoch_end(self, batch, logs={}):    \n",
    "        self.val_acc.append(logs.get('val_acc'))\n",
    "        self.val_loss.append(logs.get('val_loss'))\n",
    "        \n",
    "# Compute class_weights for imbalanced train set\n",
    "def compute_class_weight(input_list):\n",
    "\n",
    "  class_weights = class_weight.compute_class_weight('balanced', \n",
    "                                                   np.unique(input_list),  \n",
    "                                                   input_list)\n",
    "                                                   \n",
    "  return(class_weights)                                                   \n",
    "        \n",
    "#define callback functions\n",
    "history = History()\n",
    "\n",
    "\n",
    "#class_weights = compute_class_weight(train_y)\n"
   ]
  },
  {
   "cell_type": "code",
   "execution_count": 13,
   "metadata": {
    "_uuid": "0d97ed2a521ec1bd2fc10c3ec9fdb7c5fc6f571c"
   },
   "outputs": [
    {
     "name": "stdout",
     "output_type": "stream",
     "text": [
      "WARNING:tensorflow:From /home/user1/anaconda3/lib/python3.7/site-packages/tensorflow/python/framework/op_def_library.py:263: colocate_with (from tensorflow.python.framework.ops) is deprecated and will be removed in a future version.\n",
      "Instructions for updating:\n",
      "Colocations handled automatically by placer.\n",
      "WARNING:tensorflow:From /home/user1/anaconda3/lib/python3.7/site-packages/keras/backend/tensorflow_backend.py:3445: calling dropout (from tensorflow.python.ops.nn_ops) with keep_prob is deprecated and will be removed in a future version.\n",
      "Instructions for updating:\n",
      "Please use `rate` instead of `keep_prob`. Rate should be set to `rate = 1 - keep_prob`.\n",
      "_________________________________________________________________\n",
      "Layer (type)                 Output Shape              Param #   \n",
      "=================================================================\n",
      "input_1 (InputLayer)         (None, 70)                0         \n",
      "_________________________________________________________________\n",
      "embedding_1 (Embedding)      (None, 70, 300)           55674600  \n",
      "_________________________________________________________________\n",
      "spatial_dropout1d_1 (Spatial (None, 70, 300)           0         \n",
      "_________________________________________________________________\n",
      "bidirectional_1 (Bidirection (None, 70, 200)           321600    \n",
      "_________________________________________________________________\n",
      "capsule_1 (Capsule)          (None, 10, 10)            20000     \n",
      "_________________________________________________________________\n",
      "flatten_1 (Flatten)          (None, 100)               0         \n",
      "_________________________________________________________________\n",
      "dense_1 (Dense)              (None, 100)               10100     \n",
      "_________________________________________________________________\n",
      "dropout_1 (Dropout)          (None, 100)               0         \n",
      "_________________________________________________________________\n",
      "batch_normalization_1 (Batch (None, 100)               400       \n",
      "_________________________________________________________________\n",
      "dense_2 (Dense)              (None, 1)                 101       \n",
      "=================================================================\n",
      "Total params: 56,026,801\n",
      "Trainable params: 352,001\n",
      "Non-trainable params: 55,674,800\n",
      "_________________________________________________________________\n",
      "None\n",
      "WARNING:tensorflow:From /home/user1/anaconda3/lib/python3.7/site-packages/tensorflow/python/ops/math_ops.py:3066: to_int32 (from tensorflow.python.ops.math_ops) is deprecated and will be removed in a future version.\n",
      "Instructions for updating:\n",
      "Use tf.cast instead.\n",
      "Train on 940406 samples, validate on 235103 samples\n",
      "Epoch 1/6\n",
      " - 82s - loss: 0.1285 - acc: 0.9498 - val_loss: 0.1051 - val_acc: 0.9576\n",
      "\n",
      "Epoch 00001: val_loss improved from inf to 0.10507, saving model to ./output/weights_kfold.h5\n",
      "Epoch 2/6\n",
      " - 79s - loss: 0.1035 - acc: 0.9590 - val_loss: 0.0996 - val_acc: 0.9601\n",
      "\n",
      "Epoch 00002: val_loss improved from 0.10507 to 0.09955, saving model to ./output/weights_kfold.h5\n",
      "Epoch 3/6\n",
      " - 80s - loss: 0.0978 - acc: 0.9609 - val_loss: 0.0970 - val_acc: 0.9616\n",
      "\n",
      "Epoch 00003: val_loss improved from 0.09955 to 0.09704, saving model to ./output/weights_kfold.h5\n",
      "Epoch 4/6\n",
      " - 81s - loss: 0.0931 - acc: 0.9626 - val_loss: 0.0968 - val_acc: 0.9621\n",
      "\n",
      "Epoch 00004: val_loss improved from 0.09704 to 0.09681, saving model to ./output/weights_kfold.h5\n",
      "Epoch 5/6\n",
      " - 79s - loss: 0.0887 - acc: 0.9643 - val_loss: 0.0982 - val_acc: 0.9617\n",
      "\n",
      "Epoch 00005: val_loss did not improve from 0.09681\n",
      "\n",
      "Epoch 00005: ReduceLROnPlateau reducing learning rate to 0.0012000000569969416.\n",
      "Epoch 6/6\n",
      " - 79s - loss: 0.0821 - acc: 0.9669 - val_loss: 0.0964 - val_acc: 0.9618\n",
      "\n",
      "Epoch 00006: val_loss improved from 0.09681 to 0.09640, saving model to ./output/weights_kfold.h5\n",
      "Optimal F1: 0.6909 at threshold: 0.3400\n",
      "Train on 940406 samples, validate on 235103 samples\n",
      "Epoch 1/6\n",
      " - 79s - loss: 0.1298 - acc: 0.9492 - val_loss: 0.1047 - val_acc: 0.9581\n",
      "\n",
      "Epoch 00001: val_loss improved from inf to 0.10475, saving model to ./output/weights_kfold.h5\n",
      "Epoch 2/6\n",
      " - 80s - loss: 0.1043 - acc: 0.9587 - val_loss: 0.0998 - val_acc: 0.9601\n",
      "\n",
      "Epoch 00002: val_loss improved from 0.10475 to 0.09978, saving model to ./output/weights_kfold.h5\n",
      "Epoch 3/6\n",
      " - 79s - loss: 0.0987 - acc: 0.9606 - val_loss: 0.0971 - val_acc: 0.9610\n",
      "\n",
      "Epoch 00003: val_loss improved from 0.09978 to 0.09714, saving model to ./output/weights_kfold.h5\n",
      "Epoch 4/6\n",
      " - 79s - loss: 0.0938 - acc: 0.9624 - val_loss: 0.0970 - val_acc: 0.9620\n",
      "\n",
      "Epoch 00004: val_loss improved from 0.09714 to 0.09704, saving model to ./output/weights_kfold.h5\n",
      "\n",
      "Epoch 00004: ReduceLROnPlateau reducing learning rate to 0.0012000000569969416.\n",
      "Epoch 5/6\n",
      " - 82s - loss: 0.0871 - acc: 0.9649 - val_loss: 0.0956 - val_acc: 0.9620\n",
      "\n",
      "Epoch 00005: val_loss improved from 0.09704 to 0.09561, saving model to ./output/weights_kfold.h5\n",
      "Epoch 6/6\n",
      " - 81s - loss: 0.0834 - acc: 0.9661 - val_loss: 0.0978 - val_acc: 0.9622\n",
      "\n",
      "Epoch 00006: val_loss did not improve from 0.09561\n",
      "\n",
      "Epoch 00006: ReduceLROnPlateau reducing learning rate to 0.000720000034198165.\n",
      "Optimal F1: 0.6922 at threshold: 0.4100\n",
      "Train on 940408 samples, validate on 235101 samples\n",
      "Epoch 1/6\n",
      " - 80s - loss: 0.1285 - acc: 0.9498 - val_loss: 0.1045 - val_acc: 0.9582\n",
      "\n",
      "Epoch 00001: val_loss improved from inf to 0.10451, saving model to ./output/weights_kfold.h5\n",
      "Epoch 2/6\n",
      " - 80s - loss: 0.1037 - acc: 0.9590 - val_loss: 0.0997 - val_acc: 0.9606\n",
      "\n",
      "Epoch 00002: val_loss improved from 0.10451 to 0.09968, saving model to ./output/weights_kfold.h5\n",
      "Epoch 3/6\n",
      " - 80s - loss: 0.0980 - acc: 0.9610 - val_loss: 0.0978 - val_acc: 0.9609\n",
      "\n",
      "Epoch 00003: val_loss improved from 0.09968 to 0.09784, saving model to ./output/weights_kfold.h5\n",
      "Epoch 4/6\n",
      " - 79s - loss: 0.0933 - acc: 0.9626 - val_loss: 0.0970 - val_acc: 0.9604\n",
      "\n",
      "Epoch 00004: val_loss improved from 0.09784 to 0.09697, saving model to ./output/weights_kfold.h5\n",
      "Epoch 5/6\n",
      " - 80s - loss: 0.0889 - acc: 0.9641 - val_loss: 0.0977 - val_acc: 0.9617\n",
      "\n",
      "Epoch 00005: val_loss did not improve from 0.09697\n",
      "\n",
      "Epoch 00005: ReduceLROnPlateau reducing learning rate to 0.0012000000569969416.\n",
      "Epoch 6/6\n",
      " - 84s - loss: 0.0823 - acc: 0.9665 - val_loss: 0.0976 - val_acc: 0.9615\n",
      "\n",
      "Epoch 00006: val_loss did not improve from 0.09697\n",
      "\n",
      "Epoch 00006: ReduceLROnPlateau reducing learning rate to 0.000720000034198165.\n",
      "Optimal F1: 0.6873 at threshold: 0.4400\n",
      "Train on 940408 samples, validate on 235101 samples\n",
      "Epoch 1/6\n",
      " - 79s - loss: 0.1290 - acc: 0.9493 - val_loss: 0.1042 - val_acc: 0.9588\n",
      "\n",
      "Epoch 00001: val_loss improved from inf to 0.10417, saving model to ./output/weights_kfold.h5\n",
      "Epoch 2/6\n",
      " - 79s - loss: 0.1041 - acc: 0.9585 - val_loss: 0.1006 - val_acc: 0.9594\n",
      "\n",
      "Epoch 00002: val_loss improved from 0.10417 to 0.10062, saving model to ./output/weights_kfold.h5\n",
      "Epoch 3/6\n",
      " - 79s - loss: 0.0981 - acc: 0.9610 - val_loss: 0.0981 - val_acc: 0.9611\n",
      "\n",
      "Epoch 00003: val_loss improved from 0.10062 to 0.09808, saving model to ./output/weights_kfold.h5\n",
      "Epoch 4/6\n",
      " - 80s - loss: 0.0935 - acc: 0.9626 - val_loss: 0.0987 - val_acc: 0.9612\n",
      "\n",
      "Epoch 00004: val_loss did not improve from 0.09808\n",
      "\n",
      "Epoch 00004: ReduceLROnPlateau reducing learning rate to 0.0012000000569969416.\n",
      "Epoch 5/6\n",
      " - 83s - loss: 0.0869 - acc: 0.9649 - val_loss: 0.0978 - val_acc: 0.9612\n",
      "\n",
      "Epoch 00005: val_loss improved from 0.09808 to 0.09785, saving model to ./output/weights_kfold.h5\n",
      "Epoch 6/6\n",
      " - 80s - loss: 0.0831 - acc: 0.9662 - val_loss: 0.0979 - val_acc: 0.9612\n",
      "\n",
      "Epoch 00006: val_loss did not improve from 0.09785\n",
      "\n",
      "Epoch 00006: ReduceLROnPlateau reducing learning rate to 0.000720000034198165.\n",
      "Optimal F1: 0.6870 at threshold: 0.3700\n",
      "Train on 940408 samples, validate on 235101 samples\n",
      "Epoch 1/6\n",
      " - 80s - loss: 0.1288 - acc: 0.9496 - val_loss: 0.1138 - val_acc: 0.9573\n",
      "\n",
      "Epoch 00001: val_loss improved from inf to 0.11380, saving model to ./output/weights_kfold.h5\n",
      "Epoch 2/6\n",
      " - 82s - loss: 0.1032 - acc: 0.9589 - val_loss: 0.0995 - val_acc: 0.9603\n",
      "\n",
      "Epoch 00002: val_loss improved from 0.11380 to 0.09948, saving model to ./output/weights_kfold.h5\n",
      "Epoch 3/6\n",
      " - 80s - loss: 0.0975 - acc: 0.9610 - val_loss: 0.1025 - val_acc: 0.9606\n",
      "\n",
      "Epoch 00003: val_loss did not improve from 0.09948\n",
      "\n",
      "Epoch 00003: ReduceLROnPlateau reducing learning rate to 0.0012000000569969416.\n",
      "Epoch 4/6\n"
     ]
    },
    {
     "name": "stdout",
     "output_type": "stream",
     "text": [
      " - 79s - loss: 0.0908 - acc: 0.9633 - val_loss: 0.0964 - val_acc: 0.9610\n",
      "\n",
      "Epoch 00004: val_loss improved from 0.09948 to 0.09643, saving model to ./output/weights_kfold.h5\n",
      "Epoch 5/6\n",
      " - 79s - loss: 0.0865 - acc: 0.9649 - val_loss: 0.0979 - val_acc: 0.9606\n",
      "\n",
      "Epoch 00005: val_loss did not improve from 0.09643\n",
      "\n",
      "Epoch 00005: ReduceLROnPlateau reducing learning rate to 0.000720000034198165.\n",
      "Epoch 6/6\n",
      " - 81s - loss: 0.0810 - acc: 0.9670 - val_loss: 0.0995 - val_acc: 0.9610\n",
      "\n",
      "Epoch 00006: val_loss did not improve from 0.09643\n",
      "\n",
      "Epoch 00006: ReduceLROnPlateau reducing learning rate to 0.0004320000065490603.\n",
      "Optimal F1: 0.6858 at threshold: 0.3600\n"
     ]
    }
   ],
   "source": [
    "\n",
    "class_weights = [0.53290517, 80.97591407]\n",
    "kfold = StratifiedKFold(n_splits=5, random_state=10, shuffle=True)\n",
    "kfold_threshold = []\n",
    "filepath=\"./output/weights_kfold.h5\"\n",
    "y_test = np.zeros((X_test.shape[0], ))\n",
    "val_loss_array = []\n",
    "val_acc_array = []\n",
    "train_acc_array = []\n",
    "train_loss_array = []\n",
    "for i, (train_index, valid_index) in enumerate(kfold.split(X, Y)):\n",
    "    X_train, X_val, Y_train, Y_val = X[train_index], X[valid_index], Y[train_index], Y[valid_index]\n",
    "  \n",
    "    chk_point = ModelCheckpoint(filepath, monitor='val_loss', verbose=2, save_best_only=True, mode='min')\n",
    "    reduce_lr = ReduceLROnPlateau(monitor='val_loss', factor=0.6, patience=1, min_lr=0.0001, verbose=2)\n",
    "    callbacks = [chk_point, reduce_lr, history]\n",
    "    model = model_final()\n",
    "    if i == 0:\n",
    "        print(model.summary()) \n",
    "    model.fit(X_train, Y_train, batch_size=512, epochs=6, validation_data=(X_val, Y_val), verbose=2, \n",
    "              class_weight=class_weights, callbacks=callbacks, \n",
    "             )\n",
    "    val_loss_array.append(history.val_loss)\n",
    "    val_acc_array.append(history.val_acc)\n",
    "    train_loss_array.append(history.train_loss)\n",
    "    train_acc_array.append(history.train_acc)\n",
    "    \n",
    "    model.load_weights(filepath)\n",
    "    y_pred = model.predict([X_val], batch_size=1024, verbose=2)\n",
    "    y_test += np.squeeze(model.predict([X_test], batch_size=1024, verbose=2))/5\n",
    "    \n",
    "    #select the threshold that maximizes y_pred\n",
    "    f1, threshold = f1_opt_thresh(np.squeeze(Y_val), np.squeeze(y_pred))\n",
    "    print('Optimal F1: {:.4f} at threshold: {:.4f}'.format(f1, threshold))\n",
    "    kfold_threshold.append(threshold)"
   ]
  },
  {
   "cell_type": "code",
   "execution_count": 14,
   "metadata": {
    "_uuid": "c75b99630279cdaf010878fb5b8d35be77765ad5"
   },
   "outputs": [
    {
     "name": "stdout",
     "output_type": "stream",
     "text": [
      "0.7004976275893993\n"
     ]
    }
   ],
   "source": [
    "y_test = y_test.reshape((-1, 1))\n",
    "avg_threshold = np.mean(kfold_threshold)\n",
    "pred_test_y = (y_test>avg_threshold).astype(int)\n",
    "f1_score = metrics.f1_score(Y_test, pred_test_y)\n",
    "print(f1_score)"
   ]
  },
  {
   "cell_type": "code",
   "execution_count": 15,
   "metadata": {},
   "outputs": [
    {
     "data": {
      "text/plain": [
       "5"
      ]
     },
     "execution_count": 15,
     "metadata": {},
     "output_type": "execute_result"
    }
   ],
   "source": [
    "#del model, embedding_matrix, X_test, X_train, y_test, Y_test\n",
    "len(train_loss_array)"
   ]
  },
  {
   "cell_type": "code",
   "execution_count": 16,
   "metadata": {},
   "outputs": [
    {
     "data": {
      "image/png": "[encoded data removed]",
      "text/plain": [
       "<Figure size 432x288 with 1 Axes>"
      ]
     },
     "metadata": {
      "needs_background": "light"
     },
     "output_type": "display_data"
    }
   ],
   "source": [
    "import matplotlib.pyplot as plt\n",
    "x = range(len(history.train_loss))\n",
    "%matplotlib inline\n",
    "fig = plt.figure()\n",
    "plt.title('Train Loss with Capsule')\n",
    "plt.xlabel('Batch Count')\n",
    "plt.ylabel('Training Loss')\n",
    "plt.plot(x[0:1000], train_loss_array[0][0:1000], x[0:1000], train_loss_array[1][0:1000],x[0:1000], train_loss_array[2][0:1000], x[0:1000], train_loss_array[3][0:1000], x[0:1000], train_loss_array[4][0:1000])\n",
    "#plt.plot(x, history.val_acc)\n",
    "plt.show()\n",
    "fig.savefig('capsule_train_loss')"
   ]
  },
  {
   "cell_type": "code",
   "execution_count": 17,
   "metadata": {},
   "outputs": [
    {
     "data": {
      "image/png": "[encoded data removed]",
      "text/plain": [
       "<Figure size 432x288 with 1 Axes>"
      ]
     },
     "metadata": {
      "needs_background": "light"
     },
     "output_type": "display_data"
    }
   ],
   "source": [
    "import matplotlib.pyplot as plt\n",
    "x = range(len(history.train_acc))\n",
    "%matplotlib inline\n",
    "fig = plt.figure()\n",
    "plt.title('Train Accc with Capsule')\n",
    "plt.xlabel('Batch Count')\n",
    "plt.ylabel('Training Accuracy')\n",
    "plt.plot(x[0:1000], train_acc_array[0][0:1000], x[0:1000], train_acc_array[1][0:1000],x[0:1000], train_acc_array[2][0:1000], x[0:1000], train_acc_array[3][0:1000], x[0:1000], train_acc_array[4][0:1000])\n",
    "#plt.plot(x, history.val_acc)\n",
    "plt.show()\n",
    "fig.savefig('capsule_train_acc')"
   ]
  },
  {
   "cell_type": "code",
   "execution_count": 23,
   "metadata": {},
   "outputs": [
    {
     "data": {
      "image/png": "[encoded data removed]",
      "text/plain": [
       "<Figure size 432x288 with 1 Axes>"
      ]
     },
     "metadata": {
      "needs_background": "light"
     },
     "output_type": "display_data"
    }
   ],
   "source": [
    "import matplotlib.pyplot as plt\n",
    "x = [1, 2, 3, 4, 5, 6]\n",
    "%matplotlib inline\n",
    "fig = plt.figure()\n",
    "plt.title('Val Loss with Capsule')\n",
    "plt.xlabel('Epochs')\n",
    "plt.ylabel('Val Loss')\n",
    "plt.plot(x, val_loss_array[0], x, val_loss_array[1],x, val_loss_array[2], x, val_loss_array[3], x, val_loss_array[4])\n",
    "plt.xticks(np.arange(min(x), max(x)+1, 1))\n",
    "#plt.plot(x, history.val_acc)\n",
    "plt.show()\n",
    "fig.savefig('capsule_val_loss')"
   ]
  },
  {
   "cell_type": "code",
   "execution_count": 24,
   "metadata": {},
   "outputs": [
    {
     "data": {
      "image/png": "[encoded data removed]",
      "text/plain": [
       "<Figure size 432x288 with 1 Axes>"
      ]
     },
     "metadata": {
      "needs_background": "light"
     },
     "output_type": "display_data"
    }
   ],
   "source": [
    "import matplotlib.pyplot as plt\n",
    "x = [1, 2, 3, 4, 5, 6]\n",
    "%matplotlib inline\n",
    "fig = plt.figure()\n",
    "plt.title('Val Acc with Capsule')\n",
    "plt.xlabel('Epochs')\n",
    "plt.ylabel('Val Acc')\n",
    "plt.plot(x, val_acc_array[0], x, val_acc_array[1],x, val_acc_array[2], x, val_acc_array[3], x, val_acc_array[4])\n",
    "plt.xticks(np.arange(min(x), max(x)+1, 1))\n",
    "#plt.plot(x, history.val_acc)\n",
    "plt.show()\n",
    "fig.savefig('capsule_val_acc')"
   ]
  },
  {
   "cell_type": "code",
   "execution_count": 25,
   "metadata": {},
   "outputs": [
    {
     "data": {
      "image/png": "[encoded data removed]",
      "text/plain": [
       "<Figure size 432x288 with 2 Axes>"
      ]
     },
     "metadata": {
      "needs_background": "light"
     },
     "output_type": "display_data"
    }
   ],
   "source": [
    "from sklearn.metrics import classification_report, confusion_matrix\n",
    "import scikitplot as skplt\n",
    "import seaborn as sns\n",
    "def get_confusion_matrix(test_y, pred,title):\n",
    "    cm=confusion_matrix(pred,test_y)\n",
    "   \n",
    "    fig = plt.figure()\n",
    "    sns.heatmap(cm, cmap='coolwarm', annot=True)\n",
    "    plt.title(title)\n",
    "    plt.xlabel('True labels')\n",
    "    plt.ylabel('Predicted labels')\n",
    "    plt.show()\n",
    "    fig.savefig('capsule_confusion_matrix')\n",
    " \n",
    "get_confusion_matrix(Y_test,pred_test_y,'Confusion_matrix Capsule')    "
   ]
  },
  {
   "cell_type": "code",
   "execution_count": 22,
   "metadata": {},
   "outputs": [
    {
     "name": "stdout",
     "output_type": "stream",
     "text": [
      "Precision: 0.675 Recall: 0.728\n"
     ]
    }
   ],
   "source": [
    "from sklearn.metrics import recall_score, precision_score\n",
    "r = recall_score(Y_test, pred_test_y, average='binary')\n",
    "p = precision_score(Y_test, pred_test_y, average='binary')\n",
    "print('Precision: {:.3f} Recall: {:.3f}'.format(p, r))\n"
   ]
  },
  {
   "cell_type": "code",
   "execution_count": null,
   "metadata": {},
   "outputs": [],
   "source": [
    "#del model, embedding_matrix, X_test, X_train, y_test, Y_test"
   ]
  },
  {
   "cell_type": "code",
   "execution_count": null,
   "metadata": {},
   "outputs": [],
   "source": []
  },
  {
   "cell_type": "code",
   "execution_count": null,
   "metadata": {},
   "outputs": [],
   "source": []
  }
 ],
 "metadata": {
  "kernelspec": {
   "display_name": "Python 3",
   "language": "python",
   "name": "python3"
  },
  "language_info": {
   "codemirror_mode": {
    "name": "ipython",
    "version": 3
   },
   "file_extension": ".py",
   "mimetype": "text/x-python",
   "name": "python",
   "nbconvert_exporter": "python",
   "pygments_lexer": "ipython3",
   "version": "3.7.3"
  }
 },
 "nbformat": 4,
 "nbformat_minor": 1
}
