{
 "cells": [
  {
   "cell_type": "code",
   "execution_count": 1,
   "metadata": {},
   "outputs": [
    {
     "name": "stderr",
     "output_type": "stream",
     "text": [
      "Using TensorFlow backend.\n"
     ]
    }
   ],
   "source": [
    "import tensorflow as tf\n",
    "import pandas as pd\n",
    "import tensorflow_hub as hub\n",
    "import os\n",
    "import re\n",
    "from keras import backend as K\n",
    "import keras.layers as layers\n",
    "from keras.models import Model, load_model\n",
    "from keras.engine import Layer\n",
    "import numpy as np\n",
    "from keras.preprocessing.text import Tokenizer\n",
    "from keras.preprocessing.sequence import pad_sequences\n",
    "from keras.layers import Dense, Input, LSTM, Embedding, Dropout, Activation, Conv1D\n",
    "from keras.layers import Bidirectional, GlobalMaxPool1D\n",
    "from keras.models import Model\n",
    "from keras import initializers, regularizers, constraints, optimizers, layers\n",
    "from keras.layers import CuDNNLSTM\n",
    "\n",
    "\n",
    "from tqdm import tqdm\n",
    "import math\n",
    "from sklearn.model_selection import train_test_split\n",
    "from sklearn import metrics\n"
   ]
  },
  {
   "cell_type": "code",
   "execution_count": 2,
   "metadata": {},
   "outputs": [
    {
     "name": "stdout",
     "output_type": "stream",
     "text": [
      "Train shape :  (1306122, 3)\n"
     ]
    }
   ],
   "source": [
    "train_df = pd.read_csv(\"./input/train.csv\")\n",
    "\n",
    "print(\"Train shape : \",train_df.shape)\n"
   ]
  },
  {
   "cell_type": "code",
   "execution_count": 3,
   "metadata": {},
   "outputs": [
    {
     "name": "stdout",
     "output_type": "stream",
     "text": [
      "Train shape : (1044897, 1) (1044897,)\n",
      "Validation shape :  (130612, 1) (130612,)\n",
      "Test shape :  (130613, 1)\n"
     ]
    }
   ],
   "source": [
    "## Config values \n",
    "train_df, val_df = train_test_split(train_df, test_size=0.2, random_state=2019)\n",
    "val_df, test_df = train_test_split(val_df, test_size=0.5, random_state=2020)\n",
    "\n",
    "## fill up the missing values\n",
    "\n",
    "train_X = train_df['question_text'].tolist()\n",
    "train_X = [' '.join(t.split()[0:50]) for t in train_X]\n",
    "train_X = np.array(train_X, dtype=object)[:, np.newaxis]\n",
    "\n",
    "val_X = val_df['question_text'].tolist()\n",
    "val_X = [' '.join(t.split()[0:50]) for t in val_X]\n",
    "val_X = np.array(val_X, dtype=object)[:, np.newaxis]\n",
    "\n",
    "test_X = test_df['question_text'].tolist()\n",
    "test_X = [' '.join(t.split()[0:50]) for t in test_X]\n",
    "test_X = np.array(test_X, dtype=object)[:, np.newaxis]\n",
    "\n",
    "\n",
    "## Get the target values\n",
    "train_y = train_df['target'].values\n",
    "#train_y = np.array(train_y, dtype=object)[:, np.newaxis]\n",
    "val_y = val_df['target'].values#\n",
    "#val_y = np.array(val_y, dtype=object)[:, np.newaxis]\n",
    "test_y = test_df['target'].values\n",
    "#test_y = np.array(test_y, dtype=object)[:, np.newaxis]\n",
    "\n",
    "print(\"Train shape :\",train_X.shape, train_y.shape)\n",
    "print(\"Validation shape : \", val_X.shape, val_y.shape)\n",
    "print(\"Test shape : \",test_X.shape)"
   ]
  },
  {
   "cell_type": "code",
   "execution_count": 4,
   "metadata": {},
   "outputs": [],
   "source": [
    "class ElmoEmbeddingLayer(Layer):\n",
    "    def __init__(self, **kwargs):\n",
    "        self.dimensions =1024\n",
    "        self.trainable=True\n",
    "        super(ElmoEmbeddingLayer, self).__init__(**kwargs)\n",
    "\n",
    "    def build(self, input_shape):\n",
    "        self.elmo = hub.Module('https://tfhub.dev/google/elmo/2', trainable=self.trainable,\n",
    "                               name=\"{}_module\".format(self.name))\n",
    "\n",
    "        self.trainable_weights += K.tf.trainable_variables(scope=\"^{}_module/.*\".format(self.name))\n",
    "        super(ElmoEmbeddingLayer, self).build(input_shape)\n",
    "\n",
    "    def call(self, x, mask=None):\n",
    "        result = self.elmo(K.squeeze(K.cast(x, tf.string), axis=1),\n",
    "                      as_dict=True,\n",
    "                      signature='default',\n",
    "                      )['default']\n",
    "        return result\n",
    "\n",
    "    def compute_mask(self, inputs, mask=None):\n",
    "        return K.not_equal(inputs, '--PAD--')\n",
    "\n",
    "    def compute_output_shape(self, input_shape):\n",
    "        return (input_shape[0], self.dimensions)"
   ]
  },
  {
   "cell_type": "code",
   "execution_count": 5,
   "metadata": {},
   "outputs": [],
   "source": [
    "def build_model(): # uses crf from keras_contrib\n",
    "  input_text = layers.Input(shape=(1,), dtype=\"string\")\n",
    "  embedding = ElmoEmbeddingLayer()(input_text)\n",
    "  dense = Dense(512, activation='relu')(embedding)\n",
    "  dense = Dropout(0.3)(dense)\n",
    "  dense = Dense(256, activation='relu')(dense)  \n",
    "  dense = Dropout(0.1)(dense)\n",
    "  pred = Dense(1, activation='sigmoid')(dense)\n",
    " \n",
    "\n",
    "  model = Model(inputs=[input_text], outputs=pred)\n",
    "  model.compile(loss='binary_crossentropy', optimizer='nadam', metrics=['accuracy'])\n",
    "  model.summary()\n",
    "  \n",
    "  return model"
   ]
  },
  {
   "cell_type": "code",
   "execution_count": 6,
   "metadata": {},
   "outputs": [
    {
     "name": "stdout",
     "output_type": "stream",
     "text": [
      "WARNING:tensorflow:From /home/user1/anaconda3/lib/python3.7/site-packages/tensorflow/python/ops/control_flow_ops.py:3632: colocate_with (from tensorflow.python.framework.ops) is deprecated and will be removed in a future version.\n",
      "Instructions for updating:\n",
      "Colocations handled automatically by placer.\n"
     ]
    },
    {
     "name": "stderr",
     "output_type": "stream",
     "text": [
      "WARNING: Logging before flag parsing goes to stderr.\n",
      "W1125 08:28:47.802809 140160417371968 deprecation.py:323] From /home/user1/anaconda3/lib/python3.7/site-packages/tensorflow/python/ops/control_flow_ops.py:3632: colocate_with (from tensorflow.python.framework.ops) is deprecated and will be removed in a future version.\n",
      "Instructions for updating:\n",
      "Colocations handled automatically by placer.\n"
     ]
    },
    {
     "name": "stdout",
     "output_type": "stream",
     "text": [
      "INFO:tensorflow:Saver not created because there are no variables in the graph to restore\n"
     ]
    },
    {
     "name": "stderr",
     "output_type": "stream",
     "text": [
      "I1125 08:28:48.405180 140160417371968 saver.py:1483] Saver not created because there are no variables in the graph to restore\n"
     ]
    },
    {
     "name": "stdout",
     "output_type": "stream",
     "text": [
      "WARNING:tensorflow:From /home/user1/anaconda3/lib/python3.7/site-packages/keras/backend/tensorflow_backend.py:3445: calling dropout (from tensorflow.python.ops.nn_ops) with keep_prob is deprecated and will be removed in a future version.\n",
      "Instructions for updating:\n",
      "Please use `rate` instead of `keep_prob`. Rate should be set to `rate = 1 - keep_prob`.\n"
     ]
    },
    {
     "name": "stderr",
     "output_type": "stream",
     "text": [
      "W1125 08:28:48.491325 140160417371968 deprecation.py:506] From /home/user1/anaconda3/lib/python3.7/site-packages/keras/backend/tensorflow_backend.py:3445: calling dropout (from tensorflow.python.ops.nn_ops) with keep_prob is deprecated and will be removed in a future version.\n",
      "Instructions for updating:\n",
      "Please use `rate` instead of `keep_prob`. Rate should be set to `rate = 1 - keep_prob`.\n"
     ]
    },
    {
     "name": "stdout",
     "output_type": "stream",
     "text": [
      "_________________________________________________________________\n",
      "Layer (type)                 Output Shape              Param #   \n",
      "=================================================================\n",
      "input_1 (InputLayer)         (None, 1)                 0         \n",
      "_________________________________________________________________\n",
      "elmo_embedding_layer_1 (Elmo (None, 1024)              4         \n",
      "_________________________________________________________________\n",
      "dense_1 (Dense)              (None, 512)               524800    \n",
      "_________________________________________________________________\n",
      "dropout_1 (Dropout)          (None, 512)               0         \n",
      "_________________________________________________________________\n",
      "dense_2 (Dense)              (None, 256)               131328    \n",
      "_________________________________________________________________\n",
      "dropout_2 (Dropout)          (None, 256)               0         \n",
      "_________________________________________________________________\n",
      "dense_3 (Dense)              (None, 1)                 257       \n",
      "=================================================================\n",
      "Total params: 656,389\n",
      "Trainable params: 656,389\n",
      "Non-trainable params: 0\n",
      "_________________________________________________________________\n",
      "WARNING:tensorflow:From /home/user1/anaconda3/lib/python3.7/site-packages/tensorflow/python/ops/math_ops.py:3066: to_int32 (from tensorflow.python.ops.math_ops) is deprecated and will be removed in a future version.\n",
      "Instructions for updating:\n",
      "Use tf.cast instead.\n"
     ]
    },
    {
     "name": "stderr",
     "output_type": "stream",
     "text": [
      "W1125 08:28:48.867053 140160417371968 deprecation.py:323] From /home/user1/anaconda3/lib/python3.7/site-packages/tensorflow/python/ops/math_ops.py:3066: to_int32 (from tensorflow.python.ops.math_ops) is deprecated and will be removed in a future version.\n",
      "Instructions for updating:\n",
      "Use tf.cast instead.\n"
     ]
    },
    {
     "name": "stdout",
     "output_type": "stream",
     "text": [
      "Train on 1044897 samples, validate on 130612 samples\n",
      "Epoch 1/5\n",
      "1044897/1044897 [==============================] - 5476s 5ms/step - loss: 0.1218 - acc: 0.9527 - val_loss: 0.1138 - val_acc: 0.9545\n",
      "Epoch 2/5\n",
      "1044897/1044897 [==============================] - 5460s 5ms/step - loss: 0.1143 - acc: 0.9552 - val_loss: 0.1120 - val_acc: 0.9553\n",
      "Epoch 3/5\n",
      "1044897/1044897 [==============================] - 5458s 5ms/step - loss: 0.1110 - acc: 0.9562 - val_loss: 0.1117 - val_acc: 0.9547\n",
      "Epoch 4/5\n",
      "1044897/1044897 [==============================] - 5465s 5ms/step - loss: 0.1087 - acc: 0.9571 - val_loss: 0.1090 - val_acc: 0.9561\n",
      "Epoch 5/5\n",
      "1044897/1044897 [==============================] - 5464s 5ms/step - loss: 0.1067 - acc: 0.9578 - val_loss: 0.1083 - val_acc: 0.9562\n"
     ]
    }
   ],
   "source": [
    "# Build and fit\n",
    "model = build_model()\n",
    "model.fit(train_X, train_y, batch_size=128, epochs=5, validation_data=(val_X, val_y))\n",
    "model.save('./output/model_elmo_2.h5')\n",
    "#model=  load_model('./output/model_elmo.h5')\n",
    "\n",
    "#model = load_model('./output/model_elmo.h5')\n",
    "# summarize model.\n",
    "#model.summary()"
   ]
  },
  {
   "cell_type": "code",
   "execution_count": 7,
   "metadata": {},
   "outputs": [
    {
     "name": "stdout",
     "output_type": "stream",
     "text": [
      "130612/130612 [==============================] - 601s 5ms/step\n",
      "F1 score at threshold 0.1 is 0.5549848237216903\n",
      "F1 score at threshold 0.11 is 0.5645438898450947\n",
      "F1 score at threshold 0.12 is 0.5712764650477088\n",
      "F1 score at threshold 0.13 is 0.5784625690839055\n",
      "F1 score at threshold 0.14 is 0.5857014657493269\n",
      "F1 score at threshold 0.15 is 0.593116084282162\n",
      "F1 score at threshold 0.16 is 0.5988348823764842\n",
      "F1 score at threshold 0.17 is 0.6046553672316384\n",
      "F1 score at threshold 0.18 is 0.6079720472621948\n",
      "F1 score at threshold 0.19 is 0.6125713216724348\n",
      "F1 score at threshold 0.2 is 0.617094017094017\n",
      "F1 score at threshold 0.21 is 0.6210318416108676\n",
      "F1 score at threshold 0.22 is 0.6253909304143862\n",
      "F1 score at threshold 0.23 is 0.6298720618863434\n",
      "F1 score at threshold 0.24 is 0.6335459888481438\n",
      "F1 score at threshold 0.25 is 0.6360909137133269\n",
      "F1 score at threshold 0.26 is 0.6376841454620378\n",
      "F1 score at threshold 0.27 is 0.6387685885729194\n",
      "F1 score at threshold 0.28 is 0.6402748414376321\n",
      "F1 score at threshold 0.29 is 0.6408265967128862\n",
      "F1 score at threshold 0.3 is 0.6420208152645273\n",
      "F1 score at threshold 0.31 is 0.6421826965305225\n",
      "F1 score at threshold 0.32 is 0.6427342839704822\n",
      "F1 score at threshold 0.33 is 0.6435476618705036\n",
      "F1 score at threshold 0.34 is 0.6437631534042433\n",
      "F1 score at threshold 0.35 is 0.6435643564356436\n",
      "F1 score at threshold 0.36 is 0.6441131943635728\n",
      "F1 score at threshold 0.37 is 0.6425414039016916\n",
      "F1 score at threshold 0.38 is 0.6431386599785023\n",
      "F1 score at threshold 0.39 is 0.6418694523277579\n",
      "F1 score at threshold 0.4 is 0.6392029827027687\n",
      "F1 score at threshold 0.41 is 0.6370095767686129\n",
      "F1 score at threshold 0.42 is 0.635404308460818\n",
      "F1 score at threshold 0.43 is 0.6342048755841859\n",
      "F1 score at threshold 0.44 is 0.6307987220447284\n",
      "F1 score at threshold 0.45 is 0.6278513731825526\n",
      "F1 score at threshold 0.46 is 0.6259482082134449\n",
      "F1 score at threshold 0.47 is 0.6213978138456443\n",
      "F1 score at threshold 0.48 is 0.6173021510420157\n",
      "F1 score at threshold 0.49 is 0.6121923103004\n",
      "F1 score at threshold 0.5 is 0.6076574722107864\n"
     ]
    }
   ],
   "source": [
    "pred_elmo_val_y = model.predict([val_X], batch_size=128, verbose=1)\n",
    "pred_elmo_val_y = np.squeeze(pred_elmo_val_y)\n",
    "threshold = []\n",
    "f1_array = []\n",
    "for thresh in np.arange(0.1, 0.501, 0.01):\n",
    "    thresh = np.round(thresh, 2)\n",
    "    threshold.append(thresh)\n",
    "    f1_score = metrics.f1_score(val_y, (pred_elmo_val_y>thresh).astype(int))\n",
    "    f1_array.append(f1_score)\n",
    "    print(\"F1 score at threshold {0} is {1}\".format(thresh, f1_score))"
   ]
  },
  {
   "cell_type": "code",
   "execution_count": null,
   "metadata": {},
   "outputs": [],
   "source": []
  },
  {
   "cell_type": "code",
   "execution_count": null,
   "metadata": {},
   "outputs": [],
   "source": [
    "import matplotlib.pyplot as plt\n",
    "%matplotlib inline\n",
    "fig = plt.figure()\n",
    "plt.xlabel('Threshold')\n",
    "plt.ylabel('F1 Score')\n",
    "plt.plot(threshold, f1_array)\n",
    "plt.show()\n",
    "fig.savefig('F1_score')"
   ]
  },
  {
   "cell_type": "code",
   "execution_count": null,
   "metadata": {},
   "outputs": [],
   "source": [
    "pred_glove_test_y = model.predict([test_X], batch_size=1024, verbose=1)\n",
    "test_y = test_df['target'].values\n",
    "for thresh in np.arange(0.1, 0.501, 0.01):\n",
    "    thresh = np.round(thresh, 2)\n",
    "    f1_score = metrics.f1_score(test_y, (pred_glove_test_y>thresh).astype(int))\n",
    "    print(\"F1 score at threshold {0} is {1}\".format(thresh, f1_score))\n"
   ]
  },
  {
   "cell_type": "code",
   "execution_count": null,
   "metadata": {},
   "outputs": [],
   "source": []
  }
 ],
 "metadata": {
  "kernelspec": {
   "display_name": "Python 3",
   "language": "python",
   "name": "python3"
  },
  "language_info": {
   "codemirror_mode": {
    "name": "ipython",
    "version": 3
   },
   "file_extension": ".py",
   "mimetype": "text/x-python",
   "name": "python",
   "nbconvert_exporter": "python",
   "pygments_lexer": "ipython3",
   "version": "3.7.3"
  }
 },
 "nbformat": 4,
 "nbformat_minor": 2
}
