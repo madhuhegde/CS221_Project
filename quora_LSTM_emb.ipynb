{
 "cells": [
  {
   "cell_type": "code",
   "execution_count": null,
   "metadata": {},
   "outputs": [],
   "source": [
    "import os\n",
    "import time\n",
    "import numpy as np # linear algebra\n",
    "import pandas as pd # data processing, CSV file I/O (e.g. pd.read_csv)\n",
    "from tqdm import tqdm\n",
    "import math\n",
    "from sklearn.model_selection import train_test_split\n",
    "from sklearn import metrics\n",
    "\n",
    "from tensorflow.keras.preprocessing.text import Tokenizer\n",
    "from tensorflow.keras.preprocessing.sequence import pad_sequences\n",
    "from tensorflow.keras.layers import Dense, Input, LSTM, Embedding, Dropout, Activation, Conv1D\n",
    "from tensorflow.keras.layers import Bidirectional, GlobalMaxPool1D\n",
    "from tensorflow.keras.models import Model\n",
    "from tensorflow.keras import initializers, regularizers, constraints, optimizers, layers\n",
    "from tensorflow.keras.layers import CuDNNLSTM"
   ]
  },
  {
   "cell_type": "code",
   "execution_count": 2,
   "metadata": {},
   "outputs": [
    {
     "name": "stdout",
     "output_type": "stream",
     "text": [
      "Train shape :  (1306122, 3)\n",
      "Test shape :  (375806, 2)\n"
     ]
    }
   ],
   "source": [
    "train_df = pd.read_csv(\"../project/input/train.csv\")\n",
    "\n",
    "print(\"Train shape : \",train_df.shape)\n"
   ]
  },
  {
   "cell_type": "code",
   "execution_count": 3,
   "metadata": {},
   "outputs": [],
   "source": [
    "## Config values \n",
    "train_df, val_df = train_test_split(train_df, test_size=0.2, random_state=2019)\n",
    "val_df, test_df = train_test_split(val_df, test_size=0.5, random_state=2020)\n",
    "print(\"Validation shape : \",val_df.shape)\n",
    "print(\"Test shape : \",test_df.shape)\n",
    "embed_size = 300 # how big is each word vector\n",
    "max_features = 50000 # how many unique words to use (i.e num rows in embedding vector)\n",
    "maxlen = 100 # max number of words in a question to use\n",
    "\n",
    "## fill up the missing values\n",
    "train_X = train_df[\"question_text\"].fillna(\"_na_\").values\n",
    "val_X = val_df[\"question_text\"].fillna(\"_na_\").values\n",
    "test_X = test_df[\"question_text\"].fillna(\"_na_\").values\n",
    "\n",
    "## Tokenize the sentences\n",
    "oov_tok = \"OOV_TOK\"\n",
    "tokenizer = Tokenizer(num_words=max_features, oov_token=oov_tok)\n",
    "tokenizer.fit_on_texts(list(train_X))\n",
    "train_X = tokenizer.texts_to_sequences(train_X)\n",
    "val_X = tokenizer.texts_to_sequences(val_X)\n",
    "test_X = tokenizer.texts_to_sequences(test_X)\n",
    "\n",
    "## Pad the sentences \n",
    "train_X = pad_sequences(train_X, maxlen=maxlen, truncating='post')\n",
    "val_X = pad_sequences(val_X, maxlen=maxlen, truncating='post')\n",
    "test_X = pad_sequences(test_X, maxlen=maxlen, truncating='post')\n",
    "\n",
    "## Get the target values\n",
    "train_y = train_df['target'].values\n",
    "val_y = val_df['target'].values"
   ]
  },
  {
   "cell_type": "code",
   "execution_count": 4,
   "metadata": {},
   "outputs": [
    {
     "name": "stderr",
     "output_type": "stream",
     "text": [
      "/home/user1/anaconda3/lib/python3.7/site-packages/ipykernel_launcher.py:5: FutureWarning: arrays to stack must be passed as a \"sequence\" type such as list or tuple. Support for non-sequence iterables such as generators is deprecated as of NumPy 1.16 and will raise an error in the future.\n",
      "  \"\"\"\n"
     ]
    }
   ],
   "source": [
    "EMBEDDING_FILE = '../project/input/embeddings/glove.840B.300d/glove.840B.300d.txt'\n",
    "def get_coefs(word,*arr): return word, np.asarray(arr, dtype='float32')\n",
    "embeddings_index = dict(get_coefs(*o.split(\" \")) for o in open(EMBEDDING_FILE))\n",
    "\n",
    "all_embs = np.stack(embeddings_index.values())\n",
    "emb_mean,emb_std = all_embs.mean(), all_embs.std()\n",
    "embed_size = all_embs.shape[1]\n",
    "\n",
    "word_index = tokenizer.word_index\n",
    "nb_words = min(max_features, len(word_index))\n",
    "embedding_matrix = np.random.normal(emb_mean, emb_std, (nb_words, embed_size))\n",
    "for word, i in word_index.items():\n",
    "    if i >= max_features: continue\n",
    "    embedding_vector = embeddings_index.get(word)\n",
    "    if embedding_vector is not None: embedding_matrix[i] = embedding_vector\n",
    "        "
   ]
  },
  {
   "cell_type": "code",
   "execution_count": 5,
   "metadata": {},
   "outputs": [
    {
     "name": "stdout",
     "output_type": "stream",
     "text": [
      "WARNING:tensorflow:From /home/user1/anaconda3/lib/python3.7/site-packages/tensorflow/python/ops/resource_variable_ops.py:435: colocate_with (from tensorflow.python.framework.ops) is deprecated and will be removed in a future version.\n",
      "Instructions for updating:\n",
      "Colocations handled automatically by placer.\n",
      "WARNING:tensorflow:From /home/user1/anaconda3/lib/python3.7/site-packages/tensorflow/python/keras/layers/core.py:143: calling dropout (from tensorflow.python.ops.nn_ops) with keep_prob is deprecated and will be removed in a future version.\n",
      "Instructions for updating:\n",
      "Please use `rate` instead of `keep_prob`. Rate should be set to `rate = 1 - keep_prob`.\n",
      "_________________________________________________________________\n",
      "Layer (type)                 Output Shape              Param #   \n",
      "=================================================================\n",
      "input_1 (InputLayer)         (None, 100)               0         \n",
      "_________________________________________________________________\n",
      "embedding (Embedding)        (None, 100, 300)          15000000  \n",
      "_________________________________________________________________\n",
      "bidirectional (Bidirectional (None, 100, 128)          187392    \n",
      "_________________________________________________________________\n",
      "global_max_pooling1d (Global (None, 128)               0         \n",
      "_________________________________________________________________\n",
      "dense (Dense)                (None, 16)                2064      \n",
      "_________________________________________________________________\n",
      "dropout (Dropout)            (None, 16)                0         \n",
      "_________________________________________________________________\n",
      "dense_1 (Dense)              (None, 1)                 17        \n",
      "=================================================================\n",
      "Total params: 15,189,473\n",
      "Trainable params: 15,189,473\n",
      "Non-trainable params: 0\n",
      "_________________________________________________________________\n",
      "None\n"
     ]
    }
   ],
   "source": [
    "inp = Input(shape=(maxlen,))\n",
    "x = Embedding(max_features, embed_size, weights=[embedding_matrix])(inp)\n",
    "x = Bidirectional(CuDNNLSTM(64, return_sequences=True))(x)\n",
    "x = GlobalMaxPool1D()(x)\n",
    "x = Dense(16, activation=\"relu\")(x)\n",
    "x = Dropout(0.1)(x)\n",
    "x = Dense(1, activation=\"sigmoid\")(x)\n",
    "model = Model(inputs=inp, outputs=x)\n",
    "model.compile(loss='binary_crossentropy', optimizer='adam', metrics=['accuracy'])\n",
    "print(model.summary())"
   ]
  },
  {
   "cell_type": "code",
   "execution_count": 6,
   "metadata": {},
   "outputs": [
    {
     "name": "stdout",
     "output_type": "stream",
     "text": [
      "Train on 1175509 samples, validate on 130613 samples\n",
      "WARNING:tensorflow:From /home/user1/anaconda3/lib/python3.7/site-packages/tensorflow/python/ops/math_ops.py:3066: to_int32 (from tensorflow.python.ops.math_ops) is deprecated and will be removed in a future version.\n",
      "Instructions for updating:\n",
      "Use tf.cast instead.\n",
      "WARNING:tensorflow:From /home/user1/anaconda3/lib/python3.7/site-packages/tensorflow/python/ops/math_grad.py:102: div (from tensorflow.python.ops.math_ops) is deprecated and will be removed in a future version.\n",
      "Instructions for updating:\n",
      "Deprecated in favor of operator or tf.math.divide.\n",
      "Epoch 1/2\n",
      "1175509/1175509 [==============================] - 88s 74us/sample - loss: 0.1162 - acc: 0.9551 - val_loss: 0.1062 - val_acc: 0.9583\n",
      "Epoch 2/2\n",
      "1175509/1175509 [==============================] - 87s 74us/sample - loss: 0.0952 - acc: 0.9621 - val_loss: 0.1032 - val_acc: 0.9592\n"
     ]
    },
    {
     "data": {
      "text/plain": [
       "<tensorflow.python.keras.callbacks.History at 0x7f67004bd400>"
      ]
     },
     "execution_count": 6,
     "metadata": {},
     "output_type": "execute_result"
    }
   ],
   "source": [
    "model.fit(train_X, train_y, batch_size=512, epochs=2, validation_data=(val_X, val_y))"
   ]
  },
  {
   "cell_type": "code",
   "execution_count": 9,
   "metadata": {},
   "outputs": [
    {
     "name": "stdout",
     "output_type": "stream",
     "text": [
      "130613/130613 [==============================] - 3s 19us/sample\n",
      "F1 score at threshold 0.1 is 0.5991478203867584\n",
      "F1 score at threshold 0.11 is 0.6065759162303664\n",
      "F1 score at threshold 0.12 is 0.6130189646335213\n",
      "F1 score at threshold 0.13 is 0.6208822374449147\n",
      "F1 score at threshold 0.14 is 0.6284799430756914\n",
      "F1 score at threshold 0.15 is 0.6345432355467161\n",
      "F1 score at threshold 0.16 is 0.6385553212943441\n",
      "F1 score at threshold 0.17 is 0.6422564007248733\n",
      "F1 score at threshold 0.18 is 0.6465131609926071\n",
      "F1 score at threshold 0.19 is 0.6495685751060686\n",
      "F1 score at threshold 0.2 is 0.6530415035995555\n",
      "F1 score at threshold 0.21 is 0.6551133303960445\n",
      "F1 score at threshold 0.22 is 0.6575179588803567\n",
      "F1 score at threshold 0.23 is 0.6603225483321646\n",
      "F1 score at threshold 0.24 is 0.6628843523631022\n",
      "F1 score at threshold 0.25 is 0.6643456891255376\n",
      "F1 score at threshold 0.26 is 0.6657704239917269\n",
      "F1 score at threshold 0.27 is 0.6669804413764251\n",
      "F1 score at threshold 0.28 is 0.6687077702702703\n",
      "F1 score at threshold 0.29 is 0.6697570332480819\n",
      "F1 score at threshold 0.3 is 0.6706458030865192\n",
      "F1 score at threshold 0.31 is 0.6714828897338403\n",
      "F1 score at threshold 0.32 is 0.6719358911026949\n",
      "F1 score at threshold 0.33 is 0.6719070024910048\n",
      "F1 score at threshold 0.34 is 0.6725871313672922\n",
      "F1 score at threshold 0.35 is 0.6730855855855856\n",
      "F1 score at threshold 0.36 is 0.6727974568574024\n",
      "F1 score at threshold 0.37 is 0.6728073688426112\n",
      "F1 score at threshold 0.38 is 0.673391745446161\n",
      "F1 score at threshold 0.39 is 0.6722083357553914\n",
      "F1 score at threshold 0.4 is 0.671943711521548\n",
      "F1 score at threshold 0.41 is 0.6713634479900538\n",
      "F1 score at threshold 0.42 is 0.669375074680368\n",
      "F1 score at threshold 0.43 is 0.6689547206165704\n",
      "F1 score at threshold 0.44 is 0.6691391050583658\n",
      "F1 score at threshold 0.45 is 0.6676073619631903\n",
      "F1 score at threshold 0.46 is 0.6653872345694298\n",
      "F1 score at threshold 0.47 is 0.6632117882117882\n",
      "F1 score at threshold 0.48 is 0.6620020171457388\n",
      "F1 score at threshold 0.49 is 0.6600101755278556\n",
      "F1 score at threshold 0.5 is 0.6587225318726375\n"
     ]
    }
   ],
   "source": [
    "pred_glove_val_y = model.predict([val_X], batch_size=1024, verbose=1)\n",
    "for thresh in np.arange(0.1, 0.501, 0.01):\n",
    "    thresh = np.round(thresh, 2)\n",
    "    f1_score = metrics.f1_score(val_y, (pred_glove_val_y>thresh).astype(int))\n",
    "    print(\"F1 score at threshold {0} is {1}\".format(thresh, f1_score))"
   ]
  },
  {
   "cell_type": "code",
   "execution_count": null,
   "metadata": {},
   "outputs": [],
   "source": []
  }
 ],
 "metadata": {
  "kernelspec": {
   "display_name": "Python [conda env:root] *",
   "language": "python",
   "name": "conda-root-py"
  },
  "language_info": {
   "codemirror_mode": {
    "name": "ipython",
    "version": 3
   },
   "file_extension": ".py",
   "mimetype": "text/x-python",
   "name": "python",
   "nbconvert_exporter": "python",
   "pygments_lexer": "ipython3",
   "version": "3.7.3"
  }
 },
 "nbformat": 4,
 "nbformat_minor": 2
}
