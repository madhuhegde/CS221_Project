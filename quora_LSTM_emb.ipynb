{
 "cells": [
  {
   "cell_type": "code",
   "execution_count": 34,
   "metadata": {},
   "outputs": [],
   "source": [
    "import os\n",
    "import time\n",
    "import numpy as np # linear algebra\n",
    "import pandas as pd # data processing, CSV file I/O (e.g. pd.read_csv)\n",
    "from tqdm import tqdm\n",
    "import math\n",
    "from sklearn.model_selection import train_test_split\n",
    "from sklearn import metrics\n",
    "\n",
    "from tensorflow.keras.preprocessing.text import Tokenizer\n",
    "from tensorflow.keras.preprocessing.sequence import pad_sequences\n",
    "from tensorflow.keras.layers import Dense, Input, LSTM, Embedding, Dropout, Activation, Conv1D\n",
    "from tensorflow.keras.layers import Bidirectional, GlobalMaxPool1D\n",
    "from tensorflow.keras.models import Model\n",
    "from tensorflow.keras import initializers, regularizers, constraints, optimizers, layers\n",
    "from tensorflow.keras.layers import CuDNNLSTM"
   ]
  },
  {
   "cell_type": "code",
   "execution_count": 35,
   "metadata": {},
   "outputs": [
    {
     "name": "stdout",
     "output_type": "stream",
     "text": [
      "Train shape :  (1306122, 3)\n"
     ]
    }
   ],
   "source": [
    "train_df = pd.read_csv(\"../project/input/train.csv\")\n",
    "\n",
    "print(\"Train shape : \",train_df.shape)\n"
   ]
  },
  {
   "cell_type": "code",
   "execution_count": 36,
   "metadata": {},
   "outputs": [
    {
     "name": "stdout",
     "output_type": "stream",
     "text": [
      "Validation shape :  (130612, 3)\n",
      "Test shape :  (130613, 3)\n"
     ]
    }
   ],
   "source": [
    "## Config values \n",
    "train_df, val_df = train_test_split(train_df, test_size=0.2, random_state=2019)\n",
    "val_df, test_df = train_test_split(val_df, test_size=0.5, random_state=2020)\n",
    "print(\"Validation shape : \",val_df.shape)\n",
    "print(\"Test shape : \",test_df.shape)\n",
    "embed_size = 300 # how big is each word vector\n",
    "max_features = 50000 # how many unique words to use (i.e num rows in embedding vector)\n",
    "maxlen = 50 # max number of words in a question to use\n",
    "\n",
    "## fill up the missing values\n",
    "train_X = train_df[\"question_text\"].fillna(\"_na_\").values\n",
    "val_X = val_df[\"question_text\"].fillna(\"_na_\").values\n",
    "test_X = test_df[\"question_text\"].fillna(\"_na_\").values\n",
    "\n",
    "## Tokenize the sentences\n",
    "oov_tok = \"OOV_TOK\"\n",
    "tokenizer = Tokenizer(num_words=max_features) # lower = False, oov_token=oov_tok)\n",
    "tokenizer.fit_on_texts(list(train_X))\n",
    "train_X = tokenizer.texts_to_sequences(train_X)\n",
    "val_X = tokenizer.texts_to_sequences(val_X)\n",
    "test_X = tokenizer.texts_to_sequences(test_X)\n",
    "\n",
    "## Pad the sentences \n",
    "train_X = pad_sequences(train_X, maxlen=maxlen, truncating='post')\n",
    "val_X = pad_sequences(val_X, maxlen=maxlen, truncating='post')\n",
    "test_X = pad_sequences(test_X, maxlen=maxlen, truncating='post')\n",
    "\n",
    "## Get the target values\n",
    "train_y = train_df['target'].values\n",
    "val_y = val_df['target'].values\n",
    "test_y = test_df['target'].values"
   ]
  },
  {
   "cell_type": "code",
   "execution_count": 37,
   "metadata": {},
   "outputs": [
    {
     "name": "stderr",
     "output_type": "stream",
     "text": [
      "/home/user1/anaconda3/lib/python3.7/site-packages/ipykernel_launcher.py:5: FutureWarning: arrays to stack must be passed as a \"sequence\" type such as list or tuple. Support for non-sequence iterables such as generators is deprecated as of NumPy 1.16 and will raise an error in the future.\n",
      "  \"\"\"\n"
     ]
    }
   ],
   "source": [
    "EMBEDDING_FILE = '../project/input/embeddings/glove.840B.300d/glove.840B.300d.txt'\n",
    "def get_coefs(word,*arr): return word, np.asarray(arr, dtype='float32')\n",
    "embeddings_index = dict(get_coefs(*o.split(\" \")) for o in open(EMBEDDING_FILE))\n",
    "\n",
    "all_embs = np.stack(embeddings_index.values())\n",
    "emb_mean,emb_std = all_embs.mean(), all_embs.std()\n",
    "embed_size = all_embs.shape[1]\n",
    "\n",
    "word_index = tokenizer.word_index\n",
    "nb_words = min(max_features, len(word_index))\n",
    "embedding_matrix = np.random.normal(emb_mean, emb_std, (nb_words, embed_size))\n",
    "for word, i in word_index.items():\n",
    "    if i >= max_features: continue\n",
    "    embedding_vector = embeddings_index.get(word)\n",
    "    if embedding_vector is not None: embedding_matrix[i] = embedding_vector\n",
    "        "
   ]
  },
  {
   "cell_type": "code",
   "execution_count": 40,
   "metadata": {},
   "outputs": [
    {
     "name": "stdout",
     "output_type": "stream",
     "text": [
      "_________________________________________________________________\n",
      "Layer (type)                 Output Shape              Param #   \n",
      "=================================================================\n",
      "input_8 (InputLayer)         (None, 50)                0         \n",
      "_________________________________________________________________\n",
      "embedding_7 (Embedding)      (None, 50, 300)           15000000  \n",
      "_________________________________________________________________\n",
      "bidirectional_7 (Bidirection (None, 50, 128)           187392    \n",
      "_________________________________________________________________\n",
      "global_max_pooling1d_7 (Glob (None, 128)               0         \n",
      "_________________________________________________________________\n",
      "dense_14 (Dense)             (None, 16)                2064      \n",
      "_________________________________________________________________\n",
      "dropout_7 (Dropout)          (None, 16)                0         \n",
      "_________________________________________________________________\n",
      "dense_15 (Dense)             (None, 1)                 17        \n",
      "=================================================================\n",
      "Total params: 15,189,473\n",
      "Trainable params: 15,189,473\n",
      "Non-trainable params: 0\n",
      "_________________________________________________________________\n",
      "None\n"
     ]
    }
   ],
   "source": [
    "inp = Input(shape=(maxlen,))\n",
    "x = Embedding(max_features, embed_size, weights=[embedding_matrix])(inp)\n",
    "x = Bidirectional(CuDNNLSTM(64, return_sequences=True))(x)\n",
    "x = GlobalMaxPool1D()(x)\n",
    "x = Dense(16, activation=\"relu\")(x)\n",
    "x = Dropout(0.1)(x)\n",
    "x = Dense(1, activation=\"sigmoid\")(x)\n",
    "model = Model(inputs=inp, outputs=x)\n",
    "model.compile(loss='binary_crossentropy', optimizer='adam', metrics=['accuracy'])\n",
    "print(model.summary())"
   ]
  },
  {
   "cell_type": "code",
   "execution_count": 41,
   "metadata": {},
   "outputs": [
    {
     "name": "stdout",
     "output_type": "stream",
     "text": [
      "Train on 1044897 samples, validate on 130612 samples\n",
      "Epoch 1/2\n",
      "1044897/1044897 [==============================] - 47s 45us/sample - loss: 0.1199 - acc: 0.9523 - val_loss: 0.1084 - val_acc: 0.9581\n",
      "Epoch 2/2\n",
      "1044897/1044897 [==============================] - 48s 46us/sample - loss: 0.0966 - acc: 0.9616 - val_loss: 0.1034 - val_acc: 0.9588\n"
     ]
    },
    {
     "data": {
      "text/plain": [
       "<tensorflow.python.keras.callbacks.History at 0x7f68c4f8e278>"
      ]
     },
     "execution_count": 41,
     "metadata": {},
     "output_type": "execute_result"
    }
   ],
   "source": [
    "model.fit(train_X, train_y, batch_size=512, epochs=2, validation_data=(val_X, val_y))"
   ]
  },
  {
   "cell_type": "code",
   "execution_count": 45,
   "metadata": {},
   "outputs": [
    {
     "name": "stdout",
     "output_type": "stream",
     "text": [
      "130612/130612 [==============================] - 1s 10us/sample\n",
      "F1 score at threshold 0.1 is 0.6004176077044361\n",
      "F1 score at threshold 0.11 is 0.609571129707113\n",
      "F1 score at threshold 0.12 is 0.617449066024698\n",
      "F1 score at threshold 0.13 is 0.6230461650308978\n",
      "F1 score at threshold 0.14 is 0.6286718786140538\n",
      "F1 score at threshold 0.15 is 0.6324054918186948\n",
      "F1 score at threshold 0.16 is 0.6365893249307744\n",
      "F1 score at threshold 0.17 is 0.641110248447205\n",
      "F1 score at threshold 0.18 is 0.6443481685703032\n",
      "F1 score at threshold 0.19 is 0.6470118726928066\n",
      "F1 score at threshold 0.2 is 0.6497446528796076\n",
      "F1 score at threshold 0.21 is 0.6517026280805809\n",
      "F1 score at threshold 0.22 is 0.6539455993380908\n",
      "F1 score at threshold 0.23 is 0.6562826677817271\n",
      "F1 score at threshold 0.24 is 0.6589491489586637\n",
      "F1 score at threshold 0.25 is 0.6604328079080951\n",
      "F1 score at threshold 0.26 is 0.6612293399589501\n",
      "F1 score at threshold 0.27 is 0.6619764397905759\n",
      "F1 score at threshold 0.28 is 0.6611141753998897\n",
      "F1 score at threshold 0.29 is 0.6608414959928762\n",
      "F1 score at threshold 0.3 is 0.6613801248523705\n",
      "F1 score at threshold 0.31 is 0.6611373061409987\n",
      "F1 score at threshold 0.32 is 0.661477708464488\n",
      "F1 score at threshold 0.33 is 0.6624336181020549\n",
      "F1 score at threshold 0.34 is 0.662435957149511\n",
      "F1 score at threshold 0.35 is 0.6625954198473282\n",
      "F1 score at threshold 0.36 is 0.6609518179130949\n",
      "F1 score at threshold 0.37 is 0.6612989801395599\n",
      "F1 score at threshold 0.38 is 0.6612932330827068\n",
      "F1 score at threshold 0.39 is 0.6610107865713247\n",
      "F1 score at threshold 0.4 is 0.6602771503571211\n",
      "F1 score at threshold 0.41 is 0.6594109327922277\n",
      "F1 score at threshold 0.42 is 0.657609032818413\n",
      "F1 score at threshold 0.43 is 0.6553084873160037\n",
      "F1 score at threshold 0.44 is 0.6544168718823009\n",
      "F1 score at threshold 0.45 is 0.6522015780096718\n",
      "F1 score at threshold 0.46 is 0.6511389156239974\n",
      "F1 score at threshold 0.47 is 0.6488934903584832\n",
      "F1 score at threshold 0.48 is 0.6470012399660642\n",
      "F1 score at threshold 0.49 is 0.6446770689314636\n",
      "F1 score at threshold 0.5 is 0.6430325964283343\n"
     ]
    }
   ],
   "source": [
    "pred_glove_val_y = model.predict([val_X], batch_size=1024, verbose=1)\n",
    "threshold = []\n",
    "f1_array = []\n",
    "for thresh in np.arange(0.1, 0.501, 0.01):\n",
    "    thresh = np.round(thresh, 2)\n",
    "    threshold.append(thresh)\n",
    "    f1_score = metrics.f1_score(val_y, (pred_glove_val_y>thresh).astype(int))\n",
    "    f1_array.append(f1_score)\n",
    "    print(\"F1 score at threshold {0} is {1}\".format(thresh, f1_score))"
   ]
  },
  {
   "cell_type": "code",
   "execution_count": 48,
   "metadata": {},
   "outputs": [
    {
     "data": {
      "image/png": "[encoded data removed]",
      "text/plain": [
       "<Figure size 432x288 with 1 Axes>"
      ]
     },
     "metadata": {
      "needs_background": "light"
     },
     "output_type": "display_data"
    }
   ],
   "source": [
    "import matplotlib.pyplot as plt\n",
    "%matplotlib inline\n",
    "fig = plt.figure()\n",
    "plt.xlabel('Threshold')\n",
    "plt.ylabel('F1 Score')\n",
    "plt.plot(threshold, f1_array)\n",
    "plt.show()\n",
    "fig.savefig('F1_score')"
   ]
  },
  {
   "cell_type": "code",
   "execution_count": 43,
   "metadata": {},
   "outputs": [
    {
     "name": "stdout",
     "output_type": "stream",
     "text": [
      "130613/130613 [==============================] - 1s 10us/sample\n",
      "F1 score at threshold 0.1 is 0.6080937619431822\n",
      "F1 score at threshold 0.11 is 0.6150177750802046\n",
      "F1 score at threshold 0.12 is 0.6225071854963519\n",
      "F1 score at threshold 0.13 is 0.6281416088640662\n",
      "F1 score at threshold 0.14 is 0.6341150016061677\n",
      "F1 score at threshold 0.15 is 0.640216579536968\n",
      "F1 score at threshold 0.16 is 0.6445380936597378\n",
      "F1 score at threshold 0.17 is 0.6490899486145129\n",
      "F1 score at threshold 0.18 is 0.6526162083231929\n",
      "F1 score at threshold 0.19 is 0.6556471110672522\n",
      "F1 score at threshold 0.2 is 0.6588612028419893\n",
      "F1 score at threshold 0.21 is 0.6621080889429165\n",
      "F1 score at threshold 0.22 is 0.664923076923077\n",
      "F1 score at threshold 0.23 is 0.6676335008028177\n",
      "F1 score at threshold 0.24 is 0.669495965629257\n",
      "F1 score at threshold 0.25 is 0.6715351643117956\n",
      "F1 score at threshold 0.26 is 0.6730501765272281\n",
      "F1 score at threshold 0.27 is 0.6744449846054124\n",
      "F1 score at threshold 0.28 is 0.6759794827021718\n",
      "F1 score at threshold 0.29 is 0.6757814653509013\n",
      "F1 score at threshold 0.3 is 0.676537712218202\n",
      "F1 score at threshold 0.31 is 0.6768141990563917\n",
      "F1 score at threshold 0.32 is 0.6763421962696297\n",
      "F1 score at threshold 0.33 is 0.6762433468780404\n",
      "F1 score at threshold 0.34 is 0.6769390581717452\n",
      "F1 score at threshold 0.35 is 0.6757857974388823\n",
      "F1 score at threshold 0.36 is 0.6757026345127031\n",
      "F1 score at threshold 0.37 is 0.6751464237117671\n",
      "F1 score at threshold 0.38 is 0.6743811512078735\n",
      "F1 score at threshold 0.39 is 0.67408030776629\n",
      "F1 score at threshold 0.4 is 0.6731713229501243\n",
      "F1 score at threshold 0.41 is 0.6709827154461613\n",
      "F1 score at threshold 0.42 is 0.6690864349430944\n",
      "F1 score at threshold 0.43 is 0.6687356464527342\n",
      "F1 score at threshold 0.44 is 0.6665414004760115\n",
      "F1 score at threshold 0.45 is 0.6640146492391236\n",
      "F1 score at threshold 0.46 is 0.663015792154865\n",
      "F1 score at threshold 0.47 is 0.6610986186957918\n",
      "F1 score at threshold 0.48 is 0.6596723010167734\n",
      "F1 score at threshold 0.49 is 0.6573517889788455\n",
      "F1 score at threshold 0.5 is 0.6558651122966475\n"
     ]
    }
   ],
   "source": [
    "pred_glove_test_y = model.predict([test_X], batch_size=1024, verbose=1)\n",
    "test_y = test_df['target'].values\n",
    "for thresh in np.arange(0.1, 0.501, 0.01):\n",
    "    thresh = np.round(thresh, 2)\n",
    "    f1_score = metrics.f1_score(test_y, (pred_glove_test_y>thresh).astype(int))\n",
    "    print(\"F1 score at threshold {0} is {1}\".format(thresh, f1_score))\n"
   ]
  },
  {
   "cell_type": "code",
   "execution_count": null,
   "metadata": {},
   "outputs": [],
   "source": []
  }
 ],
 "metadata": {
  "kernelspec": {
   "display_name": "Python 3",
   "language": "python",
   "name": "python3"
  },
  "language_info": {
   "codemirror_mode": {
    "name": "ipython",
    "version": 3
   },
   "file_extension": ".py",
   "mimetype": "text/x-python",
   "name": "python",
   "nbconvert_exporter": "python",
   "pygments_lexer": "ipython3",
   "version": "3.7.3"
  }
 },
 "nbformat": 4,
 "nbformat_minor": 2
}
