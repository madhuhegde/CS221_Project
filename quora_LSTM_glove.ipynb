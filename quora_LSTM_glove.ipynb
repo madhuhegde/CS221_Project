{
 "cells": [
  {
   "cell_type": "code",
   "execution_count": 1,
   "metadata": {},
   "outputs": [
    {
     "name": "stderr",
     "output_type": "stream",
     "text": [
      "Using TensorFlow backend.\n"
     ]
    },
    {
     "name": "stdout",
     "output_type": "stream",
     "text": [
      "0\n"
     ]
    }
   ],
   "source": [
    "from keras.backend.tensorflow_backend import set_session\n",
    "from keras.backend.tensorflow_backend import clear_session\n",
    "from keras.backend.tensorflow_backend import get_session\n",
    "import tensorflow\n",
    "import gc\n",
    "\n",
    "# Reset Keras Session\n",
    "def reset_keras():\n",
    "    sess = get_session()\n",
    "    clear_session()\n",
    "    sess.close()\n",
    "    sess = get_session()\n",
    "\n",
    "    try:\n",
    "        del classifier # this is from global space - change this as you need\n",
    "    except:\n",
    "        pass\n",
    "\n",
    "    print(gc.collect()) # if it's done something you should see a number being outputted\n",
    "\n",
    "    # use the same config as you used to create the session\n",
    "    config = tensorflow.ConfigProto()\n",
    "    config.gpu_options.per_process_gpu_memory_fraction = 1\n",
    "    config.gpu_options.visible_device_list = \"0\"\n",
    "    set_session(tensorflow.Session(config=config))\n",
    "    \n",
    "reset_keras()    "
   ]
  },
  {
   "cell_type": "code",
   "execution_count": 2,
   "metadata": {},
   "outputs": [],
   "source": [
    "import os\n",
    "import time\n",
    "import numpy as np # linear algebra\n",
    "import pandas as pd # data processing, CSV file I/O (e.g. pd.read_csv)\n",
    "from tqdm import tqdm\n",
    "import math\n",
    "from sklearn.model_selection import train_test_split\n",
    "from sklearn import metrics\n",
    "from sklearn.utils import class_weight\n",
    "\n",
    "import matplotlib.pyplot as plt\n",
    "import tensorflow as tf\n",
    "from keras.preprocessing.text import Tokenizer\n",
    "from keras.preprocessing.sequence import pad_sequences\n",
    "from keras.layers import Dense, Input, LSTM, Embedding, Dropout, Activation, Conv1D\n",
    "from keras.layers import Bidirectional, GlobalMaxPool1D\n",
    "from keras.models import Model, load_model\n",
    "from keras import initializers, regularizers, constraints, optimizers, layers\n",
    "from keras.callbacks import Callback\n",
    "from keras.layers import CuDNNLSTM\n",
    "from keras.regularizers import L1L2\n",
    "import keras.backend as K\n",
    "import gc"
   ]
  },
  {
   "cell_type": "code",
   "execution_count": 3,
   "metadata": {},
   "outputs": [
    {
     "name": "stdout",
     "output_type": "stream",
     "text": [
      "Train shape :  (1306122, 3)\n"
     ]
    }
   ],
   "source": [
    "train_df = pd.read_csv(\"./input/train.csv\")\n",
    "\n",
    "print(\"Train shape : \",train_df.shape)\n"
   ]
  },
  {
   "cell_type": "code",
   "execution_count": 4,
   "metadata": {},
   "outputs": [
    {
     "name": "stdout",
     "output_type": "stream",
     "text": [
      "Validation shape :  (130612, 3)\n",
      "Test shape :  (130613, 3)\n"
     ]
    },
    {
     "data": {
      "text/plain": [
       "7"
      ]
     },
     "execution_count": 4,
     "metadata": {},
     "output_type": "execute_result"
    }
   ],
   "source": [
    "## Config values \n",
    "train_df, val_df = train_test_split(train_df, test_size=0.2, random_state=2019)\n",
    "val_df, test_df = train_test_split(val_df, test_size=0.5, random_state=2020)\n",
    "print(\"Validation shape : \",val_df.shape)\n",
    "print(\"Test shape : \",test_df.shape)\n",
    "embed_size = 300 # how big is each word vector\n",
    "max_features = 70000 # how many unique words to use (i.e num rows in embedding vector)\n",
    "maxlen = 50 # max number of words in a question to use\n",
    "\n",
    "puncts = [',', '.', '\"', ':', ')', '(', '-', '!', '?', '|', ';', \"'\", '$', '&', '/', '[', ']', '>', '%', '=', '#', '*', '+', '\\\\', '•',  '~', '@', '£', \n",
    " '·', '_', '{', '}', '©', '^', '®', '`',  '<', '→', '°', '€', '™', '›',  '♥', '←', '×', '§', '″', '′', 'Â', '█', '½', 'à', '…', \n",
    " '“', '★', '”', '–', '●', 'â', '►', '−', '¢', '²', '¬', '░', '¶', '↑', '±', '¿', '▾', '═', '¦', '║', '―', '¥', '▓', '—', '‹', '─', \n",
    " '▒', '：', '¼', '⊕', '▼', '▪', '†', '■', '’', '▀', '¨', '▄', '♫', '☆', 'é', '¯', '♦', '¤', '▲', 'è', '¸', '¾', 'Ã', '⋅', '‘', '∞', \n",
    " '∙', '）', '↓', '、', '│', '（', '»', '，', '♪', '╩', '╚', '³', '・', '╦', '╣', '╔', '╗', '▬', '❤', 'ï', 'Ø', '¹', '≤', '‡', '√', ]\n",
    "def clean_text(x):\n",
    "\n",
    "    x = str(x)\n",
    "    for punct in puncts:\n",
    "        x = x.replace(punct, f' {punct} ')\n",
    "    return x\n",
    "\n",
    "\n",
    "train_df[\"question_text\"] = train_df[\"question_text\"].apply(lambda x: clean_text(x))\n",
    "test_df[\"question_text\"] = test_df[\"question_text\"].apply(lambda x: clean_text(x))\n",
    "val_df[\"question_text\"] = val_df[\"question_text\"].apply(lambda x: clean_text(x))\n",
    "\n",
    "## fill up the missing values\n",
    "train_X = train_df[\"question_text\"].fillna(\"_na_\").values\n",
    "val_X = val_df[\"question_text\"].fillna(\"_na_\").values\n",
    "test_X = test_df[\"question_text\"].fillna(\"_na_\").values\n",
    "\n",
    "## Tokenize the sentences\n",
    "oov_tok = \"OOV_TOK\"\n",
    "tokenizer = Tokenizer(num_words=max_features) # lower = False, oov_token=oov_tok)\n",
    "tokenizer.fit_on_texts(list(train_X))\n",
    "train_X = tokenizer.texts_to_sequences(train_X)\n",
    "val_X = tokenizer.texts_to_sequences(val_X)\n",
    "test_X = tokenizer.texts_to_sequences(test_X)\n",
    "\n",
    "## Pad the sentences \n",
    "train_X = pad_sequences(train_X, maxlen=maxlen, truncating='post')\n",
    "val_X = pad_sequences(val_X, maxlen=maxlen, truncating='post')\n",
    "test_X = pad_sequences(test_X, maxlen=maxlen, truncating='post')\n",
    "\n",
    "## Get the target values\n",
    "train_y = train_df['target'].values\n",
    "val_y = val_df['target'].values\n",
    "test_y = test_df['target'].values\n",
    "del train_df, val_df, test_df\n",
    "gc.collect()"
   ]
  },
  {
   "cell_type": "code",
   "execution_count": 5,
   "metadata": {},
   "outputs": [
    {
     "name": "stderr",
     "output_type": "stream",
     "text": [
      "/home/user1/anaconda3/lib/python3.7/site-packages/ipykernel_launcher.py:5: FutureWarning: arrays to stack must be passed as a \"sequence\" type such as list or tuple. Support for non-sequence iterables such as generators is deprecated as of NumPy 1.16 and will raise an error in the future.\n",
      "  \"\"\"\n"
     ]
    }
   ],
   "source": [
    "EMBEDDING_FILE = './input/embeddings/glove.840B.300d/glove.840B.300d.txt'\n",
    "def get_coefs(word,*arr): return word, np.asarray(arr, dtype='float32')\n",
    "embeddings_index = dict(get_coefs(*o.split(\" \")) for o in open(EMBEDDING_FILE))\n",
    "\n",
    "all_embs = np.stack(embeddings_index.values())\n",
    "emb_mean,emb_std = all_embs.mean(), all_embs.std()\n",
    "embed_size = all_embs.shape[1]\n",
    "\n",
    "word_index = tokenizer.word_index\n",
    "nb_words = min(max_features, len(word_index))\n",
    "embedding_matrix = np.random.normal(emb_mean, emb_std, (nb_words, embed_size))\n",
    "for word, i in word_index.items():\n",
    "    if i >= max_features: continue\n",
    "    embedding_vector = embeddings_index.get(word)\n",
    "    if embedding_vector is not None: embedding_matrix[i] = embedding_vector\n",
    "        "
   ]
  },
  {
   "cell_type": "code",
   "execution_count": 6,
   "metadata": {},
   "outputs": [
    {
     "name": "stdout",
     "output_type": "stream",
     "text": [
      "WARNING:tensorflow:From /home/user1/anaconda3/lib/python3.7/site-packages/tensorflow/python/framework/op_def_library.py:263: colocate_with (from tensorflow.python.framework.ops) is deprecated and will be removed in a future version.\n",
      "Instructions for updating:\n",
      "Colocations handled automatically by placer.\n",
      "WARNING:tensorflow:From /home/user1/anaconda3/lib/python3.7/site-packages/keras/backend/tensorflow_backend.py:3445: calling dropout (from tensorflow.python.ops.nn_ops) with keep_prob is deprecated and will be removed in a future version.\n",
      "Instructions for updating:\n",
      "Please use `rate` instead of `keep_prob`. Rate should be set to `rate = 1 - keep_prob`.\n",
      "_________________________________________________________________\n",
      "Layer (type)                 Output Shape              Param #   \n",
      "=================================================================\n",
      "input_1 (InputLayer)         (None, 50)                0         \n",
      "_________________________________________________________________\n",
      "embedding_1 (Embedding)      (None, 50, 300)           21000000  \n",
      "_________________________________________________________________\n",
      "bidirectional_1 (Bidirection (None, 50, 128)           187392    \n",
      "_________________________________________________________________\n",
      "global_max_pooling1d_1 (Glob (None, 128)               0         \n",
      "_________________________________________________________________\n",
      "dense_1 (Dense)              (None, 16)                2064      \n",
      "_________________________________________________________________\n",
      "dropout_1 (Dropout)          (None, 16)                0         \n",
      "_________________________________________________________________\n",
      "dense_2 (Dense)              (None, 1)                 17        \n",
      "=================================================================\n",
      "Total params: 21,189,473\n",
      "Trainable params: 189,473\n",
      "Non-trainable params: 21,000,000\n",
      "_________________________________________________________________\n",
      "None\n"
     ]
    }
   ],
   "source": [
    "regularizer = L1L2(l1=0.0, l2=0.001)\n",
    "def get_model():\n",
    "    K.clear_session() \n",
    "    inp = Input(shape=(maxlen,))\n",
    "    emb_out = Embedding(max_features, embed_size, weights=[embedding_matrix], trainable=False)(inp)\n",
    "    lstm_out = Bidirectional(CuDNNLSTM(64, return_sequences=True))(emb_out)\n",
    "    gmp_out = GlobalMaxPool1D()(lstm_out)\n",
    "    d_out = Dense(16, activation=\"relu\")(gmp_out)\n",
    "    drop_out = Dropout(0.1)(d_out)\n",
    "    d_out = Dense(1, activation=\"sigmoid\")(drop_out)\n",
    "    model = Model(inputs=inp, outputs=d_out)\n",
    "    model.compile(loss='binary_crossentropy', optimizer='nadam', metrics=['accuracy'])\n",
    "\n",
    "    print(model.summary())\n",
    "    return(model)\n",
    "\n",
    "model = get_model()"
   ]
  },
  {
   "cell_type": "code",
   "execution_count": 7,
   "metadata": {},
   "outputs": [
    {
     "name": "stdout",
     "output_type": "stream",
     "text": [
      "[ 0.53290517 80.97591407]\n"
     ]
    }
   ],
   "source": [
    "# Define callback function if detailed log required\n",
    "\n",
    "class History(Callback):\n",
    "    def on_train_begin(self, logs={}):\n",
    "        self.train_loss = []\n",
    "        self.train_acc = []\n",
    "        self.val_acc = []\n",
    "        self.val_loss = []\n",
    "        for keys in logs:\n",
    "           print(keys) \n",
    "\n",
    "    def on_batch_end(self, batch, logs={}):\n",
    "        self.train_loss.append(logs.get('loss'))\n",
    "        self.train_acc.append(logs.get('acc'))\n",
    "    #Store val_acc/loss per batch    \n",
    "    def on_epoch_end(self, batch, logs={}):    \n",
    "        self.val_acc.append(logs.get('val_acc'))\n",
    "        self.val_loss.append(logs.get('val_loss'))\n",
    "        \n",
    "# Compute class_weights for imbalanced train set\n",
    "def compute_class_weight(input_list):\n",
    "\n",
    "  class_weights = class_weight.compute_class_weight('balanced', \n",
    "                                                   np.unique(input_list),  \n",
    "                                                   input_list)\n",
    "                                                   \n",
    "  return(class_weights)                                                   \n",
    "        \n",
    "#define callback functions\n",
    "history = History()\n",
    "callbacks = [history]        \n",
    "\n",
    "class_weights = compute_class_weight(train_y)\n",
    "\n",
    "class_weights[1] *= 10\n",
    "print(class_weights)"
   ]
  },
  {
   "cell_type": "code",
   "execution_count": 8,
   "metadata": {},
   "outputs": [
    {
     "name": "stdout",
     "output_type": "stream",
     "text": [
      "WARNING:tensorflow:From /home/user1/anaconda3/lib/python3.7/site-packages/tensorflow/python/ops/math_ops.py:3066: to_int32 (from tensorflow.python.ops.math_ops) is deprecated and will be removed in a future version.\n",
      "Instructions for updating:\n",
      "Use tf.cast instead.\n",
      "WARNING:tensorflow:From /home/user1/anaconda3/lib/python3.7/site-packages/tensorflow/python/ops/math_grad.py:102: div (from tensorflow.python.ops.math_ops) is deprecated and will be removed in a future version.\n",
      "Instructions for updating:\n",
      "Deprecated in favor of operator or tf.math.divide.\n",
      "Train on 1044897 samples, validate on 130612 samples\n",
      "Epoch 1/2\n",
      "1044897/1044897 [==============================] - 42s 40us/step - loss: 0.1137 - acc: 0.9556 - val_loss: 0.1050 - val_acc: 0.9586\n",
      "Epoch 2/2\n",
      "1044897/1044897 [==============================] - 38s 37us/step - loss: 0.1005 - acc: 0.9602 - val_loss: 0.1037 - val_acc: 0.9593\n"
     ]
    }
   ],
   "source": [
    "\n",
    "model.fit(train_X, train_y, \n",
    "          batch_size=512, \n",
    "          epochs=2, \n",
    "          validation_data=(val_X, val_y), \n",
    "          class_weight = class_weights,\n",
    "          callbacks= callbacks)\n",
    "model.save_weights('./output/model_glove_weights.h5')"
   ]
  },
  {
   "cell_type": "code",
   "execution_count": 9,
   "metadata": {},
   "outputs": [
    {
     "name": "stdout",
     "output_type": "stream",
     "text": [
      "130612/130612 [==============================] - 2s 12us/step\n",
      "F1 score at threshold 0.1 is 0.6395809739524349\n",
      "F1 score at threshold 0.11 is 0.6462191358024691\n",
      "F1 score at threshold 0.12 is 0.6497397112267951\n",
      "F1 score at threshold 0.13 is 0.6518022296655502\n",
      "F1 score at threshold 0.14 is 0.6548024609752376\n",
      "F1 score at threshold 0.15 is 0.6580006190034046\n",
      "F1 score at threshold 0.16 is 0.6607749830047588\n",
      "F1 score at threshold 0.17 is 0.6620419402668927\n",
      "F1 score at threshold 0.18 is 0.6644860314225964\n",
      "F1 score at threshold 0.19 is 0.6650406504065041\n",
      "F1 score at threshold 0.2 is 0.6669591445023306\n",
      "F1 score at threshold 0.21 is 0.66751705396262\n",
      "F1 score at threshold 0.22 is 0.6672649764415526\n",
      "F1 score at threshold 0.23 is 0.6672334636966503\n",
      "F1 score at threshold 0.24 is 0.6686106346483706\n",
      "F1 score at threshold 0.25 is 0.6690124596215966\n",
      "F1 score at threshold 0.26 is 0.6675596971461852\n",
      "F1 score at threshold 0.27 is 0.6669409828356454\n",
      "F1 score at threshold 0.28 is 0.6662315314780751\n",
      "F1 score at threshold 0.29 is 0.6658689799581213\n",
      "F1 score at threshold 0.3 is 0.6646573030321298\n",
      "F1 score at threshold 0.31 is 0.6642748555792035\n",
      "F1 score at threshold 0.32 is 0.6625329977285285\n",
      "F1 score at threshold 0.33 is 0.6626252628974392\n",
      "F1 score at threshold 0.34 is 0.661475205581859\n",
      "F1 score at threshold 0.35 is 0.6610595028872709\n",
      "F1 score at threshold 0.36 is 0.6609762266059687\n",
      "F1 score at threshold 0.37 is 0.6595283620140217\n",
      "F1 score at threshold 0.38 is 0.6580927271558099\n",
      "F1 score at threshold 0.39 is 0.655116475244955\n",
      "F1 score at threshold 0.4 is 0.6540172729651924\n",
      "F1 score at threshold 0.41 is 0.6515801279936663\n",
      "F1 score at threshold 0.42 is 0.6489220122438116\n",
      "F1 score at threshold 0.43 is 0.6452868165045287\n",
      "F1 score at threshold 0.44 is 0.6432677351727869\n",
      "F1 score at threshold 0.45 is 0.6411235342241614\n",
      "F1 score at threshold 0.46 is 0.6370757180156658\n",
      "F1 score at threshold 0.47 is 0.6323682566132056\n",
      "F1 score at threshold 0.48 is 0.6286434977578476\n",
      "F1 score at threshold 0.49 is 0.6264753692840483\n",
      "F1 score at threshold 0.5 is 0.6207093413259116\n"
     ]
    }
   ],
   "source": [
    "#from tensorflow.keras.models import Model, load_model\n",
    "\n",
    "#model.load_weights('./output/model_glove_weights.h5')\n",
    "pred_glove_val_y = model.predict([val_X], batch_size=1024, verbose=1)\n",
    "threshold = []\n",
    "f1_array = []\n",
    "for thresh in np.arange(0.1, 0.501, 0.01):\n",
    "    thresh = np.round(thresh, 2)\n",
    "    threshold.append(thresh)\n",
    "    f1_score = metrics.f1_score(val_y, (pred_glove_val_y>thresh).astype(int))\n",
    "    f1_array.append(f1_score)\n",
    "    print(\"F1 score at threshold {0} is {1}\".format(thresh, f1_score))"
   ]
  },
  {
   "cell_type": "code",
   "execution_count": 10,
   "metadata": {
    "scrolled": true
   },
   "outputs": [
    {
     "data": {
      "image/png": "[encoded data removed]",
      "text/plain": [
       "<Figure size 432x288 with 1 Axes>"
      ]
     },
     "metadata": {
      "needs_background": "light"
     },
     "output_type": "display_data"
    }
   ],
   "source": [
    "x = range(len(history.train_acc))\n",
    "%matplotlib inline\n",
    "fig = plt.figure()\n",
    "plt.xlabel('Batch Count')\n",
    "plt.ylabel('Training Accuracy')\n",
    "plt.plot(x[0:1000], history.train_acc[0:1000])\n",
    "plt.show()\n",
    "#fig.savefig('glove_emb_accuracy')"
   ]
  },
  {
   "cell_type": "code",
   "execution_count": 11,
   "metadata": {},
   "outputs": [
    {
     "data": {
      "image/png": "[encoded data removed]",
      "text/plain": [
       "<Figure size 432x288 with 1 Axes>"
      ]
     },
     "metadata": {
      "needs_background": "light"
     },
     "output_type": "display_data"
    }
   ],
   "source": [
    "fig = plt.figure()\n",
    "plt.xlabel('Batch Count')\n",
    "plt.ylabel('Training Loss')\n",
    "plt.plot(x[0:1000], history.train_loss[0:1000])\n",
    "plt.show()\n",
    "#fig.savefig('glove_emb_loss')"
   ]
  },
  {
   "cell_type": "code",
   "execution_count": 12,
   "metadata": {},
   "outputs": [
    {
     "data": {
      "image/png": "[encoded data removed]",
      "text/plain": [
       "<Figure size 432x288 with 1 Axes>"
      ]
     },
     "metadata": {
      "needs_background": "light"
     },
     "output_type": "display_data"
    }
   ],
   "source": [
    "\n",
    "%matplotlib inline\n",
    "fig = plt.figure()\n",
    "plt.xlabel('Threshold')\n",
    "plt.ylabel('F1 Score')\n",
    "plt.plot(threshold, f1_array)\n",
    "plt.show()\n",
    "#fig.savefig('self_train_emb_F1_score')"
   ]
  },
  {
   "cell_type": "code",
   "execution_count": 14,
   "metadata": {},
   "outputs": [
    {
     "name": "stdout",
     "output_type": "stream",
     "text": [
      "130613/130613 [==============================] - 1s 10us/step\n",
      "F1 score at threshold 0.1 is 0.6406081366430482\n",
      "F1 score at threshold 0.11 is 0.6472504311170721\n",
      "F1 score at threshold 0.12 is 0.6520932955987118\n",
      "F1 score at threshold 0.13 is 0.65574909433775\n",
      "F1 score at threshold 0.14 is 0.6589280306853739\n",
      "F1 score at threshold 0.15 is 0.6594849697342772\n",
      "F1 score at threshold 0.16 is 0.6628173116937163\n",
      "F1 score at threshold 0.17 is 0.664242807461271\n",
      "F1 score at threshold 0.18 is 0.6669156086631816\n",
      "F1 score at threshold 0.19 is 0.6696177931332326\n",
      "F1 score at threshold 0.2 is 0.6715798667976853\n",
      "F1 score at threshold 0.21 is 0.6733219348077878\n",
      "F1 score at threshold 0.22 is 0.6741372581814127\n",
      "F1 score at threshold 0.23 is 0.675014100394811\n",
      "F1 score at threshold 0.24 is 0.6750256468710817\n",
      "F1 score at threshold 0.25 is 0.6739180478821363\n",
      "F1 score at threshold 0.26 is 0.6739016888166677\n",
      "F1 score at threshold 0.27 is 0.673345049794962\n",
      "F1 score at threshold 0.28 is 0.6726155300791867\n",
      "F1 score at threshold 0.29 is 0.6716729244889446\n",
      "F1 score at threshold 0.3 is 0.672272945699183\n",
      "F1 score at threshold 0.31 is 0.6715522984676882\n",
      "F1 score at threshold 0.32 is 0.6703316840754994\n",
      "F1 score at threshold 0.33 is 0.6683488214659363\n",
      "F1 score at threshold 0.34 is 0.6675356921166977\n",
      "F1 score at threshold 0.35 is 0.6664998749061796\n",
      "F1 score at threshold 0.36 is 0.6651535212155603\n",
      "F1 score at threshold 0.37 is 0.6632802082671915\n",
      "F1 score at threshold 0.38 is 0.6615433877681716\n",
      "F1 score at threshold 0.39 is 0.6604236631361404\n",
      "F1 score at threshold 0.4 is 0.6586397657012691\n",
      "F1 score at threshold 0.41 is 0.6572215663124754\n",
      "F1 score at threshold 0.42 is 0.6546776859504133\n",
      "F1 score at threshold 0.43 is 0.6514049255823265\n",
      "F1 score at threshold 0.44 is 0.6484848484848484\n",
      "F1 score at threshold 0.45 is 0.6455816478892358\n",
      "F1 score at threshold 0.46 is 0.6424806626052434\n",
      "F1 score at threshold 0.47 is 0.6402540033130867\n",
      "F1 score at threshold 0.48 is 0.6363826377760747\n",
      "F1 score at threshold 0.49 is 0.6324666198172874\n",
      "F1 score at threshold 0.5 is 0.6278509703924069\n"
     ]
    }
   ],
   "source": [
    "pred_test_y = model.predict([test_X], batch_size=1024, verbose=1)\n",
    "threshold = []\n",
    "f1_array = []\n",
    "f1_max = 0\n",
    "opt_thresh = 0\n",
    "\n",
    "for thresh in np.arange(0.1, 0.501, 0.01):\n",
    "    thresh = np.round(thresh, 2)\n",
    "    threshold.append(thresh)\n",
    "    f1_score = metrics.f1_score(test_y, (pred_test_y>thresh).astype(int))\n",
    "    if(f1_score > f1_max):\n",
    "        f1_max = f1_score\n",
    "        opt_thresh = thresh\n",
    "    f1_array.append(f1_score)\n",
    "    print(\"F1 score at threshold {0} is {1}\".format(thresh, f1_score))\n",
    "\n",
    "pred = [int(a > opt_thresh) for a in pred_test_y]    "
   ]
  },
  {
   "cell_type": "code",
   "execution_count": 15,
   "metadata": {},
   "outputs": [
    {
     "data": {
      "image/png": "[encoded data removed]",
      "text/plain": [
       "<Figure size 432x288 with 1 Axes>"
      ]
     },
     "metadata": {
      "needs_background": "light"
     },
     "output_type": "display_data"
    }
   ],
   "source": [
    "fig = plt.figure()\n",
    "plt.xlabel('Threshold')\n",
    "plt.ylabel('F1 Score')\n",
    "plt.plot(threshold, f1_array)\n",
    "plt.show()\n",
    "#fig.savefig('glove_emb_F1_score')"
   ]
  },
  {
   "cell_type": "code",
   "execution_count": 16,
   "metadata": {},
   "outputs": [
    {
     "data": {
      "image/png": "[encoded data removed]",
      "text/plain": [
       "<Figure size 432x288 with 2 Axes>"
      ]
     },
     "metadata": {
      "needs_background": "light"
     },
     "output_type": "display_data"
    }
   ],
   "source": [
    "from sklearn.metrics import classification_report, confusion_matrix\n",
    "import scikitplot as skplt\n",
    "import seaborn as sns\n",
    "def get_confusion_matrix(val_y, pred,title):\n",
    "    cm=confusion_matrix(pred,val_y)\n",
    "   \n",
    "    fig = plt.figure()\n",
    "    sns.heatmap(cm, cmap='coolwarm', annot=True)\n",
    "    plt.title(title)\n",
    "    plt.xlabel('True labels')\n",
    "    plt.ylabel('Predicted labels')\n",
    "    plt.show()\n",
    "    #fig.savefig('glove_confusion_matrix')\n",
    " \n",
    "get_confusion_matrix(test_y,pred,'Confusion_matrix Glove')    "
   ]
  },
  {
   "cell_type": "code",
   "execution_count": 19,
   "metadata": {},
   "outputs": [
    {
     "name": "stdout",
     "output_type": "stream",
     "text": [
      "Precision: 0.633 Recall: 0.723\n"
     ]
    }
   ],
   "source": [
    "from sklearn.metrics import recall_score, precision_score\n",
    "r = recall_score(test_y, pred, average='binary')\n",
    "p = precision_score(test_y, pred, average='binary')\n",
    "print('Precision: {:.3f} Recall: {:.3f}'.format(p, r))\n",
    "\n",
    "#fig.savefig('glove_ROC')"
   ]
  },
  {
   "cell_type": "code",
   "execution_count": null,
   "metadata": {},
   "outputs": [],
   "source": []
  }
 ],
 "metadata": {
  "kernelspec": {
   "display_name": "Python 3",
   "language": "python",
   "name": "python3"
  },
  "language_info": {
   "codemirror_mode": {
    "name": "ipython",
    "version": 3
   },
   "file_extension": ".py",
   "mimetype": "text/x-python",
   "name": "python",
   "nbconvert_exporter": "python",
   "pygments_lexer": "ipython3",
   "version": "3.7.3"
  }
 },
 "nbformat": 4,
 "nbformat_minor": 2
}
