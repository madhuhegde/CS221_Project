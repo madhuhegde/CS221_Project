{
 "cells": [
  {
   "cell_type": "code",
   "execution_count": 2,
   "metadata": {},
   "outputs": [
    {
     "name": "stderr",
     "output_type": "stream",
     "text": [
      "Using TensorFlow backend.\n"
     ]
    },
    {
     "name": "stdout",
     "output_type": "stream",
     "text": [
      "0\n"
     ]
    }
   ],
   "source": [
    "from keras.backend.tensorflow_backend import set_session\n",
    "from keras.backend.tensorflow_backend import clear_session\n",
    "from keras.backend.tensorflow_backend import get_session\n",
    "import tensorflow\n",
    "import gc\n",
    "\n",
    "# Reset Keras Session\n",
    "def reset_keras():\n",
    "    sess = get_session()\n",
    "    clear_session()\n",
    "    sess.close()\n",
    "    sess = get_session()\n",
    "\n",
    "    try:\n",
    "        del classifier # this is from global space - change this as you need\n",
    "    except:\n",
    "        pass\n",
    "\n",
    "    print(gc.collect()) # if it's done something you should see a number being outputted\n",
    "\n",
    "    # use the same config as you used to create the session\n",
    "    config = tensorflow.ConfigProto()\n",
    "    config.gpu_options.per_process_gpu_memory_fraction = 1\n",
    "    config.gpu_options.visible_device_list = \"0\"\n",
    "    set_session(tensorflow.Session(config=config))\n",
    "    \n",
    "reset_keras()    "
   ]
  },
  {
   "cell_type": "code",
   "execution_count": 3,
   "metadata": {},
   "outputs": [],
   "source": [
    "import os\n",
    "import time\n",
    "import numpy as np # linear algebra\n",
    "import pandas as pd # data processing, CSV file I/O (e.g. pd.read_csv)\n",
    "from tqdm import tqdm\n",
    "import math\n",
    "from sklearn.model_selection import train_test_split\n",
    "from sklearn import metrics\n",
    "from sklearn.utils import class_weight\n",
    "\n",
    "import matplotlib.pyplot as plt\n",
    "\n",
    "from tensorflow.keras.preprocessing.text import Tokenizer\n",
    "from tensorflow.keras.preprocessing.sequence import pad_sequences\n",
    "from tensorflow.keras.layers import Dense, Input, LSTM, Embedding, Dropout, Activation, Conv1D\n",
    "from tensorflow.keras.layers import Bidirectional, GlobalMaxPool1D\n",
    "from tensorflow.keras.models import Model, load_model\n",
    "from tensorflow.keras import initializers, regularizers, constraints, optimizers, layers\n",
    "from tensorflow.keras.callbacks import Callback\n",
    "from tensorflow.keras.layers import CuDNNLSTM\n",
    "from tensorflow.keras.regularizers import L1L2"
   ]
  },
  {
   "cell_type": "code",
   "execution_count": 4,
   "metadata": {},
   "outputs": [
    {
     "name": "stdout",
     "output_type": "stream",
     "text": [
      "Train shape :  (1306122, 3)\n"
     ]
    }
   ],
   "source": [
    "train_df = pd.read_csv(\"./input/train.csv\")\n",
    "\n",
    "print(\"Train shape : \",train_df.shape)\n"
   ]
  },
  {
   "cell_type": "code",
   "execution_count": 5,
   "metadata": {},
   "outputs": [
    {
     "name": "stdout",
     "output_type": "stream",
     "text": [
      "Validation shape :  (130612, 3)\n",
      "Test shape :  (130613, 3)\n"
     ]
    }
   ],
   "source": [
    "## Config values \n",
    "train_df, val_df = train_test_split(train_df, test_size=0.2, random_state=2019)\n",
    "val_df, test_df = train_test_split(val_df, test_size=0.5, random_state=2020)\n",
    "print(\"Validation shape : \",val_df.shape)\n",
    "print(\"Test shape : \",test_df.shape)\n",
    "embed_size = 300 # how big is each word vector\n",
    "max_features = 50000 # how many unique words to use (i.e num rows in embedding vector)\n",
    "maxlen = 50 # max number of words in a question to use\n",
    "\n",
    "## fill up the missing values\n",
    "train_X = train_df[\"question_text\"].fillna(\"_na_\").values\n",
    "val_X = val_df[\"question_text\"].fillna(\"_na_\").values\n",
    "test_X = test_df[\"question_text\"].fillna(\"_na_\").values\n",
    "\n",
    "## Tokenize the sentences\n",
    "oov_tok = \"OOV_TOK\"\n",
    "tokenizer = Tokenizer(num_words=max_features) # lower = False, oov_token=oov_tok)\n",
    "tokenizer.fit_on_texts(list(train_X))\n",
    "train_X = tokenizer.texts_to_sequences(train_X)\n",
    "val_X = tokenizer.texts_to_sequences(val_X)\n",
    "test_X = tokenizer.texts_to_sequences(test_X)\n",
    "\n",
    "## Pad the sentences \n",
    "train_X = pad_sequences(train_X, maxlen=maxlen, truncating='post')\n",
    "val_X = pad_sequences(val_X, maxlen=maxlen, truncating='post')\n",
    "test_X = pad_sequences(test_X, maxlen=maxlen, truncating='post')\n",
    "\n",
    "## Get the target values\n",
    "train_y = train_df['target'].values\n",
    "val_y = val_df['target'].values\n",
    "test_y = test_df['target'].values"
   ]
  },
  {
   "cell_type": "code",
   "execution_count": 7,
   "metadata": {},
   "outputs": [
    {
     "name": "stderr",
     "output_type": "stream",
     "text": [
      "/home/user1/anaconda3/lib/python3.7/site-packages/ipykernel_launcher.py:5: FutureWarning: arrays to stack must be passed as a \"sequence\" type such as list or tuple. Support for non-sequence iterables such as generators is deprecated as of NumPy 1.16 and will raise an error in the future.\n",
      "  \"\"\"\n"
     ]
    }
   ],
   "source": [
    "EMBEDDING_FILE = './input/embeddings/paragram_300_sl999/paragram_300_sl999.txt'\n",
    "def get_coefs(word,*arr): return word, np.asarray(arr, dtype='float32')\n",
    "embeddings_index = dict(get_coefs(*o.split(\" \")) for o in open(EMBEDDING_FILE, encoding=\"utf8\", errors='ignore') if len(o)>100)\n",
    "\n",
    "all_embs = np.stack(embeddings_index.values())\n",
    "emb_mean,emb_std = all_embs.mean(), all_embs.std()\n",
    "embed_size = all_embs.shape[1]\n",
    "\n",
    "word_index = tokenizer.word_index\n",
    "nb_words = min(max_features, len(word_index))\n",
    "embedding_matrix = np.random.normal(emb_mean, emb_std, (nb_words, embed_size))\n",
    "for word, i in word_index.items():\n",
    "    if i >= max_features: continue\n",
    "    embedding_vector = embeddings_index.get(word)\n",
    "    if embedding_vector is not None: embedding_matrix[i] = embedding_vector"
   ]
  },
  {
   "cell_type": "code",
   "execution_count": 19,
   "metadata": {},
   "outputs": [
    {
     "name": "stdout",
     "output_type": "stream",
     "text": [
      "_________________________________________________________________\n",
      "Layer (type)                 Output Shape              Param #   \n",
      "=================================================================\n",
      "input_4 (InputLayer)         (None, 50)                0         \n",
      "_________________________________________________________________\n",
      "embedding_3 (Embedding)      (None, 50, 300)           15000000  \n",
      "_________________________________________________________________\n",
      "bidirectional_3 (Bidirection (None, 50, 128)           187392    \n",
      "_________________________________________________________________\n",
      "global_max_pooling1d_3 (Glob (None, 128)               0         \n",
      "_________________________________________________________________\n",
      "dense_6 (Dense)              (None, 16)                2064      \n",
      "_________________________________________________________________\n",
      "dropout_3 (Dropout)          (None, 16)                0         \n",
      "_________________________________________________________________\n",
      "dense_7 (Dense)              (None, 1)                 17        \n",
      "=================================================================\n",
      "Total params: 15,189,473\n",
      "Trainable params: 15,189,473\n",
      "Non-trainable params: 0\n",
      "_________________________________________________________________\n",
      "None\n"
     ]
    }
   ],
   "source": [
    "regularizer = L1L2(l1=0.0, l2=0.001)\n",
    "del model\n",
    "inp = Input(shape=(maxlen,))\n",
    "x = Embedding(max_features, embed_size, trainable=True, weights=[embedding_matrix])(inp)\n",
    "x = Bidirectional(CuDNNLSTM(64, return_sequences=True))(x)\n",
    "x = GlobalMaxPool1D()(x)\n",
    "x = Dense(16, activation=\"relu\")(x)\n",
    "x = Dropout(0.1)(x)\n",
    "x = Dense(1, activation=\"sigmoid\")(x)\n",
    "model = Model(inputs=inp, outputs=x)\n",
    "model.compile(loss='binary_crossentropy', optimizer='nadam', metrics=['accuracy'])\n",
    "\n",
    "print(model.summary())"
   ]
  },
  {
   "cell_type": "code",
   "execution_count": 20,
   "metadata": {},
   "outputs": [
    {
     "name": "stdout",
     "output_type": "stream",
     "text": [
      "[ 0.53290517 80.97591407]\n"
     ]
    }
   ],
   "source": [
    "# Define callback function if detailed log required\n",
    "\n",
    "class History(Callback):\n",
    "    def on_train_begin(self, logs={}):\n",
    "        self.train_loss = []\n",
    "        self.train_acc = []\n",
    "        self.val_acc = []\n",
    "        self.val_loss = []\n",
    "        for keys in logs:\n",
    "           print(keys) \n",
    "\n",
    "    def on_batch_end(self, batch, logs={}):\n",
    "        self.train_loss.append(logs.get('loss'))\n",
    "        self.train_acc.append(logs.get('acc'))\n",
    "    #Store val_acc/loss per batch    \n",
    "    def on_epoch_end(self, batch, logs={}):    \n",
    "        self.val_acc.append(logs.get('val_acc'))\n",
    "        self.val_loss.append(logs.get('val_loss'))\n",
    "        \n",
    "# Compute class_weights for imbalanced train set\n",
    "def compute_class_weight(input_list):\n",
    "\n",
    "  class_weights = class_weight.compute_class_weight('balanced', \n",
    "                                                   np.unique(input_list),  \n",
    "                                                   input_list)\n",
    "                                                   \n",
    "  return(class_weights)                                                   \n",
    "        \n",
    "#define callback functions\n",
    "history = History()\n",
    "callbacks = [history]        \n",
    "\n",
    "class_weights = compute_class_weight(train_y)\n",
    "\n",
    "class_weights[1] *= 10\n",
    "print(class_weights)"
   ]
  },
  {
   "cell_type": "code",
   "execution_count": 21,
   "metadata": {},
   "outputs": [
    {
     "name": "stdout",
     "output_type": "stream",
     "text": [
      "Train on 1044897 samples, validate on 130612 samples\n",
      "Epoch 1/2\n",
      "1044897/1044897 [==============================] - 49s 47us/sample - loss: 0.1126 - acc: 0.9555 - val_loss: 0.1041 - val_acc: 0.9586\n",
      "Epoch 2/2\n",
      "1044897/1044897 [==============================] - 52s 50us/sample - loss: 0.0924 - acc: 0.9630 - val_loss: 0.1036 - val_acc: 0.9587\n"
     ]
    }
   ],
   "source": [
    "\n",
    "model.fit(train_X, train_y, \n",
    "          batch_size=512, \n",
    "          epochs=2, \n",
    "          validation_data=(val_X, val_y), \n",
    "          class_weight = class_weights,\n",
    "          callbacks= callbacks)\n",
    "model.save('./output/model_paragram_emb.h5')"
   ]
  },
  {
   "cell_type": "code",
   "execution_count": 11,
   "metadata": {},
   "outputs": [
    {
     "name": "stdout",
     "output_type": "stream",
     "text": [
      "130612/130612 [==============================] - 1s 11us/sample\n",
      "F1 score at threshold 0.1 is 0.5951393005334913\n",
      "F1 score at threshold 0.11 is 0.6042752867570386\n",
      "F1 score at threshold 0.12 is 0.6127898179876285\n",
      "F1 score at threshold 0.13 is 0.6203096539162113\n",
      "F1 score at threshold 0.14 is 0.6267045190114953\n",
      "F1 score at threshold 0.15 is 0.6325501759726053\n",
      "F1 score at threshold 0.16 is 0.6372539513235722\n",
      "F1 score at threshold 0.17 is 0.642165579924916\n",
      "F1 score at threshold 0.18 is 0.645476034803601\n",
      "F1 score at threshold 0.19 is 0.647173090686024\n",
      "F1 score at threshold 0.2 is 0.6489234760051881\n",
      "F1 score at threshold 0.21 is 0.6517090640964871\n",
      "F1 score at threshold 0.22 is 0.6527451399273659\n",
      "F1 score at threshold 0.23 is 0.6551350178939378\n",
      "F1 score at threshold 0.24 is 0.6585674234511572\n",
      "F1 score at threshold 0.25 is 0.6600990705181722\n",
      "F1 score at threshold 0.26 is 0.6606299212598425\n",
      "F1 score at threshold 0.27 is 0.662119145065939\n",
      "F1 score at threshold 0.28 is 0.6609145815358067\n",
      "F1 score at threshold 0.29 is 0.6606561191251745\n",
      "F1 score at threshold 0.3 is 0.6604815032295949\n",
      "F1 score at threshold 0.31 is 0.6591515870661524\n",
      "F1 score at threshold 0.32 is 0.6577495201535508\n",
      "F1 score at threshold 0.33 is 0.6569351907934585\n",
      "F1 score at threshold 0.34 is 0.6567127646554889\n",
      "F1 score at threshold 0.35 is 0.6548148148148148\n",
      "F1 score at threshold 0.36 is 0.6538989394884592\n",
      "F1 score at threshold 0.37 is 0.6529222621524495\n",
      "F1 score at threshold 0.38 is 0.6495574094122142\n",
      "F1 score at threshold 0.39 is 0.649120554628322\n",
      "F1 score at threshold 0.4 is 0.6453997276794398\n",
      "F1 score at threshold 0.41 is 0.6426936907486106\n",
      "F1 score at threshold 0.42 is 0.6390485629335976\n",
      "F1 score at threshold 0.43 is 0.6365514024918383\n",
      "F1 score at threshold 0.44 is 0.6336273651605953\n",
      "F1 score at threshold 0.45 is 0.62871118961886\n",
      "F1 score at threshold 0.46 is 0.6266200370294178\n",
      "F1 score at threshold 0.47 is 0.6232184862321849\n",
      "F1 score at threshold 0.48 is 0.6194035063211567\n",
      "F1 score at threshold 0.49 is 0.6156992735735947\n",
      "F1 score at threshold 0.5 is 0.611111111111111\n"
     ]
    }
   ],
   "source": [
    "#from tensorflow.keras.models import Model, load_model\n",
    "\n",
    "#model =load_model('./output/model_glove.h5')\n",
    "pred_glove_val_y = model.predict([val_X], batch_size=1024, verbose=1)\n",
    "threshold = []\n",
    "f1_array = []\n",
    "for thresh in np.arange(0.1, 0.501, 0.01):\n",
    "    thresh = np.round(thresh, 2)\n",
    "    threshold.append(thresh)\n",
    "    f1_score = metrics.f1_score(val_y, (pred_glove_val_y>thresh).astype(int))\n",
    "    f1_array.append(f1_score)\n",
    "    print(\"F1 score at threshold {0} is {1}\".format(thresh, f1_score))"
   ]
  },
  {
   "cell_type": "code",
   "execution_count": 22,
   "metadata": {
    "scrolled": true
   },
   "outputs": [
    {
     "data": {
      "image/png": "[encoded data removed]",
      "text/plain": [
       "<Figure size 432x288 with 1 Axes>"
      ]
     },
     "metadata": {
      "needs_background": "light"
     },
     "output_type": "display_data"
    }
   ],
   "source": [
    "x = range(len(history.train_acc))\n",
    "%matplotlib inline\n",
    "fig = plt.figure()\n",
    "plt.xlabel('Batch Count')\n",
    "plt.ylabel('Training Accuracy')\n",
    "plt.plot(x[0:1000], history.train_acc[0:1000])\n",
    "plt.show()\n",
    "fig.savefig('paragram_emb_accuracy')"
   ]
  },
  {
   "cell_type": "code",
   "execution_count": 23,
   "metadata": {},
   "outputs": [
    {
     "data": {
      "image/png": "[encoded data removed]",
      "text/plain": [
       "<Figure size 432x288 with 1 Axes>"
      ]
     },
     "metadata": {
      "needs_background": "light"
     },
     "output_type": "display_data"
    }
   ],
   "source": [
    "fig = plt.figure()\n",
    "plt.xlabel('Batch Count')\n",
    "plt.ylabel('Training Loss')\n",
    "plt.plot(x[0:1000], history.train_loss[0:1000])\n",
    "plt.show()\n",
    "fig.savefig('paragram_emb_loss')"
   ]
  },
  {
   "cell_type": "code",
   "execution_count": null,
   "metadata": {},
   "outputs": [],
   "source": [
    "\n",
    "%matplotlib inline\n",
    "fig = plt.figure()\n",
    "plt.xlabel('Threshold')\n",
    "plt.ylabel('F1 Score')\n",
    "plt.plot(threshold, f1_array)\n",
    "plt.show()\n",
    "#fig.savefig('self_train_emb_F1_score')"
   ]
  },
  {
   "cell_type": "code",
   "execution_count": 24,
   "metadata": {},
   "outputs": [
    {
     "name": "stdout",
     "output_type": "stream",
     "text": [
      "130613/130613 [==============================] - 2s 12us/sample\n",
      "F1 score at threshold 0.1 is 0.5952874802953622\n",
      "F1 score at threshold 0.11 is 0.602531002666441\n",
      "F1 score at threshold 0.12 is 0.6101548682110349\n",
      "F1 score at threshold 0.13 is 0.6174000967160505\n",
      "F1 score at threshold 0.14 is 0.6241172789845356\n",
      "F1 score at threshold 0.15 is 0.6295540129758177\n",
      "F1 score at threshold 0.16 is 0.634173308149445\n",
      "F1 score at threshold 0.17 is 0.6386256477288642\n",
      "F1 score at threshold 0.18 is 0.6425193871760924\n",
      "F1 score at threshold 0.19 is 0.6457815190357757\n",
      "F1 score at threshold 0.2 is 0.6497363711120786\n",
      "F1 score at threshold 0.21 is 0.6517852781712499\n",
      "F1 score at threshold 0.22 is 0.6551383399209486\n",
      "F1 score at threshold 0.23 is 0.6580354911272182\n",
      "F1 score at threshold 0.24 is 0.6608792207136729\n",
      "F1 score at threshold 0.25 is 0.662787730311846\n",
      "F1 score at threshold 0.26 is 0.6652218782249741\n",
      "F1 score at threshold 0.27 is 0.6675351745700886\n",
      "F1 score at threshold 0.28 is 0.6691586816889544\n",
      "F1 score at threshold 0.29 is 0.670071284179168\n",
      "F1 score at threshold 0.3 is 0.6710738471460819\n",
      "F1 score at threshold 0.31 is 0.6724165988608625\n",
      "F1 score at threshold 0.32 is 0.6727989487516426\n",
      "F1 score at threshold 0.33 is 0.6742206500110546\n",
      "F1 score at threshold 0.34 is 0.6743692788568876\n",
      "F1 score at threshold 0.35 is 0.6746662159878316\n",
      "F1 score at threshold 0.36 is 0.6753084314059924\n",
      "F1 score at threshold 0.37 is 0.6756229188196119\n",
      "F1 score at threshold 0.38 is 0.6760906088870865\n",
      "F1 score at threshold 0.39 is 0.6749254952375386\n",
      "F1 score at threshold 0.4 is 0.6743692525347796\n",
      "F1 score at threshold 0.41 is 0.6720676714124025\n",
      "F1 score at threshold 0.42 is 0.6707566462167689\n",
      "F1 score at threshold 0.43 is 0.669134603714043\n",
      "F1 score at threshold 0.44 is 0.6687503830360972\n",
      "F1 score at threshold 0.45 is 0.6682766734782338\n",
      "F1 score at threshold 0.46 is 0.6671667916979244\n",
      "F1 score at threshold 0.47 is 0.6653197802891596\n",
      "F1 score at threshold 0.48 is 0.6625398851308233\n",
      "F1 score at threshold 0.49 is 0.6599652039435531\n",
      "F1 score at threshold 0.5 is 0.6569381107491857\n"
     ]
    }
   ],
   "source": [
    "pred_test_y = model.predict([test_X], batch_size=1024, verbose=1)\n",
    "threshold = []\n",
    "f1_array = []\n",
    "f1_max = 0\n",
    "opt_thresh = 0\n",
    "test_y = test_df['target'].values\n",
    "for thresh in np.arange(0.1, 0.501, 0.01):\n",
    "    thresh = np.round(thresh, 2)\n",
    "    threshold.append(thresh)\n",
    "    f1_score = metrics.f1_score(test_y, (pred_test_y>thresh).astype(int))\n",
    "    if(f1_score > f1_max):\n",
    "        f1_max = f1_score\n",
    "        opt_thresh = thresh\n",
    "    f1_array.append(f1_score)\n",
    "    print(\"F1 score at threshold {0} is {1}\".format(thresh, f1_score))\n",
    "\n",
    "pred = [int(a > opt_thresh) for a in pred_test_y]    "
   ]
  },
  {
   "cell_type": "code",
   "execution_count": 25,
   "metadata": {},
   "outputs": [
    {
     "data": {
      "image/png": "[encoded data removed]",
      "text/plain": [
       "<Figure size 432x288 with 1 Axes>"
      ]
     },
     "metadata": {
      "needs_background": "light"
     },
     "output_type": "display_data"
    }
   ],
   "source": [
    "fig = plt.figure()\n",
    "plt.xlabel('Threshold')\n",
    "plt.ylabel('F1 Score')\n",
    "plt.plot(threshold, f1_array)\n",
    "plt.show()\n",
    "fig.savefig('paragram_emb_F1_score')"
   ]
  },
  {
   "cell_type": "code",
   "execution_count": 26,
   "metadata": {},
   "outputs": [
    {
     "data": {
      "image/png": "[encoded data removed]",
      "text/plain": [
       "<Figure size 432x288 with 2 Axes>"
      ]
     },
     "metadata": {
      "needs_background": "light"
     },
     "output_type": "display_data"
    }
   ],
   "source": [
    "from sklearn.metrics import classification_report, confusion_matrix\n",
    "import scikitplot as skplt\n",
    "import seaborn as sns\n",
    "def get_confusion_matrix(val_y, pred,title):\n",
    "    cm=confusion_matrix(pred,val_y)\n",
    "   \n",
    "    fig = plt.figure()\n",
    "    sns.heatmap(cm, cmap='coolwarm', annot=True)\n",
    "    plt.title(title)\n",
    "    plt.xlabel('True labels')\n",
    "    plt.ylabel('Predicted labels')\n",
    "    plt.show()\n",
    "    fig.savefig('paragram_confusion_matrix')\n",
    " \n",
    "get_confusion_matrix(test_y,pred,'Confusion_matrix Glove')    "
   ]
  },
  {
   "cell_type": "code",
   "execution_count": 27,
   "metadata": {},
   "outputs": [
    {
     "data": {
      "image/png": "[encoded data removed]",
      "text/plain": [
       "<Figure size 432x288 with 1 Axes>"
      ]
     },
     "metadata": {
      "needs_background": "light"
     },
     "output_type": "display_data"
    }
   ],
   "source": [
    "from sklearn.metrics import roc_curve\n",
    "from sklearn.metrics import auc\n",
    "fpr_keras, tpr_keras, thresholds_keras = roc_curve(test_y, pred_test_y)\n",
    "auc_keras = auc(fpr_keras, tpr_keras)\n",
    "fig = plt.figure()\n",
    "plt.plot([0, 1], [0, 1], 'k--')\n",
    "plt.plot(fpr_keras, tpr_keras, label='Keras (area = {:.3f})'.format(auc_keras))\n",
    "plt.xlabel('False positive rate')\n",
    "plt.ylabel('True positive rate')\n",
    "plt.title('ROC curve')\n",
    "plt.legend(loc='best')\n",
    "plt.show()\n",
    "fig.savefig('paragram_ROC')"
   ]
  },
  {
   "cell_type": "code",
   "execution_count": null,
   "metadata": {},
   "outputs": [],
   "source": []
  }
 ],
 "metadata": {
  "kernelspec": {
   "display_name": "Python 3",
   "language": "python",
   "name": "python3"
  },
  "language_info": {
   "codemirror_mode": {
    "name": "ipython",
    "version": 3
   },
   "file_extension": ".py",
   "mimetype": "text/x-python",
   "name": "python",
   "nbconvert_exporter": "python",
   "pygments_lexer": "ipython3",
   "version": "3.7.3"
  }
 },
 "nbformat": 4,
 "nbformat_minor": 2
}
