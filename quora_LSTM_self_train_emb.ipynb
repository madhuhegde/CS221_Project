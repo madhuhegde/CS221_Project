{
 "cells": [
  {
   "cell_type": "code",
   "execution_count": 1,
   "metadata": {},
   "outputs": [],
   "source": [
    "import os\n",
    "import time\n",
    "import numpy as np # linear algebra\n",
    "import pandas as pd # data processing, CSV file I/O (e.g. pd.read_csv)\n",
    "from tqdm import tqdm\n",
    "import math\n",
    "from sklearn.model_selection import train_test_split\n",
    "from sklearn import metrics\n",
    "from sklearn.utils import class_weight\n",
    "\n",
    "import matplotlib.pyplot as plt\n",
    "\n",
    "from tensorflow.keras.preprocessing.text import Tokenizer\n",
    "from tensorflow.keras.preprocessing.sequence import pad_sequences\n",
    "from tensorflow.keras.layers import Dense, Input, LSTM, Embedding, Dropout, Activation, Conv1D\n",
    "from tensorflow.keras.layers import Bidirectional, GlobalMaxPool1D\n",
    "from tensorflow.keras.models import Model, load_model\n",
    "from tensorflow.keras import initializers, regularizers, constraints, optimizers, layers\n",
    "from tensorflow.keras.callbacks import Callback\n",
    "from tensorflow.keras.layers import CuDNNLSTM\n",
    "from tensorflow.keras.regularizers import L1L2"
   ]
  },
  {
   "cell_type": "code",
   "execution_count": 2,
   "metadata": {},
   "outputs": [
    {
     "name": "stdout",
     "output_type": "stream",
     "text": [
      "Train shape :  (1306122, 3)\n"
     ]
    }
   ],
   "source": [
    "train_df = pd.read_csv(\"./input/train.csv\")\n",
    "\n",
    "print(\"Train shape : \",train_df.shape)\n"
   ]
  },
  {
   "cell_type": "code",
   "execution_count": 3,
   "metadata": {},
   "outputs": [
    {
     "name": "stdout",
     "output_type": "stream",
     "text": [
      "Validation shape :  (130612, 3)\n",
      "Test shape :  (130613, 3)\n"
     ]
    }
   ],
   "source": [
    "## Config values \n",
    "train_df, val_df = train_test_split(train_df, test_size=0.2, random_state=2019)\n",
    "val_df, test_df = train_test_split(val_df, test_size=0.5, random_state=2020)\n",
    "print(\"Validation shape : \",val_df.shape)\n",
    "print(\"Test shape : \",test_df.shape)\n",
    "embed_size = 300 # how big is each word vector\n",
    "max_features = 50000 # how many unique words to use (i.e num rows in embedding vector)\n",
    "maxlen = 50 # max number of words in a question to use\n",
    "\n",
    "## fill up the missing values\n",
    "train_X = train_df[\"question_text\"].fillna(\"_na_\").values\n",
    "val_X = val_df[\"question_text\"].fillna(\"_na_\").values\n",
    "test_X = test_df[\"question_text\"].fillna(\"_na_\").values\n",
    "\n",
    "## Tokenize the sentences\n",
    "oov_tok = \"OOV_TOK\"\n",
    "tokenizer = Tokenizer(num_words=max_features) # lower = False, oov_token=oov_tok)\n",
    "tokenizer.fit_on_texts(list(train_X))\n",
    "train_X = tokenizer.texts_to_sequences(train_X)\n",
    "val_X = tokenizer.texts_to_sequences(val_X)\n",
    "test_X = tokenizer.texts_to_sequences(test_X)\n",
    "\n",
    "## Pad the sentences \n",
    "train_X = pad_sequences(train_X, maxlen=maxlen, truncating='post')\n",
    "val_X = pad_sequences(val_X, maxlen=maxlen, truncating='post')\n",
    "test_X = pad_sequences(test_X, maxlen=maxlen, truncating='post')\n",
    "\n",
    "## Get the target values\n",
    "train_y = train_df['target'].values\n",
    "val_y = val_df['target'].values\n",
    "test_y = test_df['target'].values"
   ]
  },
  {
   "cell_type": "code",
   "execution_count": 47,
   "metadata": {},
   "outputs": [
    {
     "name": "stdout",
     "output_type": "stream",
     "text": [
      "_________________________________________________________________\n",
      "Layer (type)                 Output Shape              Param #   \n",
      "=================================================================\n",
      "input_7 (InputLayer)         (None, 50)                0         \n",
      "_________________________________________________________________\n",
      "embedding_6 (Embedding)      (None, 50, 300)           15000000  \n",
      "_________________________________________________________________\n",
      "bidirectional_6 (Bidirection (None, 50, 128)           187392    \n",
      "_________________________________________________________________\n",
      "global_max_pooling1d_6 (Glob (None, 128)               0         \n",
      "_________________________________________________________________\n",
      "dense_12 (Dense)             (None, 16)                2064      \n",
      "_________________________________________________________________\n",
      "dropout_6 (Dropout)          (None, 16)                0         \n",
      "_________________________________________________________________\n",
      "dense_13 (Dense)             (None, 1)                 17        \n",
      "=================================================================\n",
      "Total params: 15,189,473\n",
      "Trainable params: 15,189,473\n",
      "Non-trainable params: 0\n",
      "_________________________________________________________________\n",
      "None\n"
     ]
    }
   ],
   "source": [
    "regularizer = L1L2(l1=0.0, l2=0.001)\n",
    "del model\n",
    "inp = Input(shape=(maxlen,))\n",
    "x = Embedding(max_features, embed_size, trainable=True) (inp) #, weights=[embedding_matrix])(inp)\n",
    "x = Bidirectional(CuDNNLSTM(64, return_sequences=True))(x)\n",
    "x = GlobalMaxPool1D()(x)\n",
    "x = Dense(16, activation=\"relu\")(x)\n",
    "x = Dropout(0.1)(x)\n",
    "x = Dense(1, activation=\"sigmoid\")(x)\n",
    "model = Model(inputs=inp, outputs=x)\n",
    "model.compile(loss='binary_crossentropy', optimizer='nadam', metrics=['accuracy'])\n",
    "\n",
    "print(model.summary())"
   ]
  },
  {
   "cell_type": "code",
   "execution_count": 48,
   "metadata": {},
   "outputs": [
    {
     "name": "stdout",
     "output_type": "stream",
     "text": [
      "[ 0.53290517 80.97591407]\n"
     ]
    }
   ],
   "source": [
    "# Define callback function if detailed log required\n",
    "\n",
    "class History(Callback):\n",
    "    def on_train_begin(self, logs={}):\n",
    "        self.train_loss = []\n",
    "        self.train_acc = []\n",
    "        self.val_acc = []\n",
    "        self.val_loss = []\n",
    "        for keys in logs:\n",
    "           print(keys) \n",
    "\n",
    "    def on_batch_end(self, batch, logs={}):\n",
    "        self.train_loss.append(logs.get('loss'))\n",
    "        self.train_acc.append(logs.get('acc'))\n",
    "    #Store val_acc/loss per batch    \n",
    "    def on_epoch_end(self, batch, logs={}):    \n",
    "        self.val_acc.append(logs.get('val_acc'))\n",
    "        self.val_loss.append(logs.get('val_loss'))\n",
    "        \n",
    "# Compute class_weights for imbalanced train set\n",
    "def compute_class_weight(input_list):\n",
    "\n",
    "  class_weights = class_weight.compute_class_weight('balanced', \n",
    "                                                   np.unique(input_list),  \n",
    "                                                   input_list)\n",
    "                                                   \n",
    "  return(class_weights)                                                   \n",
    "        \n",
    "#define callback functions\n",
    "history = History()\n",
    "callbacks = [history]        \n",
    "\n",
    "class_weights = compute_class_weight(train_y)\n",
    "\n",
    "class_weights[1] *= 10\n",
    "print(class_weights)"
   ]
  },
  {
   "cell_type": "code",
   "execution_count": 49,
   "metadata": {},
   "outputs": [
    {
     "name": "stdout",
     "output_type": "stream",
     "text": [
      "Train on 1044897 samples, validate on 130612 samples\n",
      "Epoch 1/2\n",
      "1044897/1044897 [==============================] - 49s 47us/sample - loss: 0.1211 - acc: 0.9539 - val_loss: 0.1105 - val_acc: 0.9556\n",
      "Epoch 2/2\n",
      "1044897/1044897 [==============================] - 50s 47us/sample - loss: 0.0976 - acc: 0.9612 - val_loss: 0.1102 - val_acc: 0.9563\n"
     ]
    }
   ],
   "source": [
    "\n",
    "model.fit(train_X, train_y, \n",
    "          batch_size=512, \n",
    "          epochs=2, \n",
    "          validation_data=(val_X, val_y), \n",
    "          class_weight = class_weights,\n",
    "          callbacks= callbacks)\n",
    "model.save('./output/model_self_train_emb.h5')"
   ]
  },
  {
   "cell_type": "code",
   "execution_count": 35,
   "metadata": {},
   "outputs": [
    {
     "name": "stdout",
     "output_type": "stream",
     "text": [
      "130612/130612 [==============================] - 2s 13us/sample\n",
      "F1 score at threshold 0.1 is 0.5502095297221791\n",
      "F1 score at threshold 0.11 is 0.5588632214019211\n",
      "F1 score at threshold 0.12 is 0.5662963263320088\n",
      "F1 score at threshold 0.13 is 0.5734473782075121\n",
      "F1 score at threshold 0.14 is 0.5791421362489486\n",
      "F1 score at threshold 0.15 is 0.5850380895317983\n",
      "F1 score at threshold 0.16 is 0.5898048759289035\n",
      "F1 score at threshold 0.17 is 0.5954986760812003\n",
      "F1 score at threshold 0.18 is 0.5995081600715404\n",
      "F1 score at threshold 0.19 is 0.6040986579615525\n",
      "F1 score at threshold 0.2 is 0.6092672611933437\n",
      "F1 score at threshold 0.21 is 0.6133060007454342\n",
      "F1 score at threshold 0.22 is 0.6156605465615708\n",
      "F1 score at threshold 0.23 is 0.6180097505018641\n",
      "F1 score at threshold 0.24 is 0.6218007644298224\n",
      "F1 score at threshold 0.25 is 0.6240454278441355\n",
      "F1 score at threshold 0.26 is 0.6251794643299173\n",
      "F1 score at threshold 0.27 is 0.6265036086607858\n",
      "F1 score at threshold 0.28 is 0.6285395876601996\n",
      "F1 score at threshold 0.29 is 0.6307810499359795\n",
      "F1 score at threshold 0.3 is 0.6321946169772257\n",
      "F1 score at threshold 0.31 is 0.6333298462182236\n",
      "F1 score at threshold 0.32 is 0.6346539883782356\n",
      "F1 score at threshold 0.33 is 0.635989964234239\n",
      "F1 score at threshold 0.34 is 0.6371624171203709\n",
      "F1 score at threshold 0.35 is 0.6393979057591623\n",
      "F1 score at threshold 0.36 is 0.6403528114663727\n",
      "F1 score at threshold 0.37 is 0.6418475236505288\n",
      "F1 score at threshold 0.38 is 0.6414161281258781\n",
      "F1 score at threshold 0.39 is 0.640613462084635\n",
      "F1 score at threshold 0.4 is 0.6415311224783034\n",
      "F1 score at threshold 0.41 is 0.6415774778966962\n",
      "F1 score at threshold 0.42 is 0.6417866588304437\n",
      "F1 score at threshold 0.43 is 0.6410607051548844\n",
      "F1 score at threshold 0.44 is 0.6409716793939029\n",
      "F1 score at threshold 0.45 is 0.641201873365367\n",
      "F1 score at threshold 0.46 is 0.6406931727401217\n",
      "F1 score at threshold 0.47 is 0.6390010560974094\n",
      "F1 score at threshold 0.48 is 0.6371013398754483\n",
      "F1 score at threshold 0.49 is 0.6353151086471676\n",
      "F1 score at threshold 0.5 is 0.6337374258447253\n"
     ]
    }
   ],
   "source": [
    "#from tensorflow.keras.models import Model, load_model\n",
    "\n",
    "#model =load_model('./output/model_glove.h5')\n",
    "pred_glove_val_y = model.predict([val_X], batch_size=1024, verbose=1)\n",
    "threshold = []\n",
    "f1_array = []\n",
    "for thresh in np.arange(0.1, 0.501, 0.01):\n",
    "    thresh = np.round(thresh, 2)\n",
    "    threshold.append(thresh)\n",
    "    f1_score = metrics.f1_score(val_y, (pred_glove_val_y>thresh).astype(int))\n",
    "    f1_array.append(f1_score)\n",
    "    print(\"F1 score at threshold {0} is {1}\".format(thresh, f1_score))"
   ]
  },
  {
   "cell_type": "code",
   "execution_count": 39,
   "metadata": {
    "scrolled": true
   },
   "outputs": [
    {
     "data": {
      "image/png": "[encoded data removed]",
      "text/plain": [
       "<Figure size 432x288 with 1 Axes>"
      ]
     },
     "metadata": {
      "needs_background": "light"
     },
     "output_type": "display_data"
    }
   ],
   "source": [
    "x = range(len(history.train_acc))\n",
    "%matplotlib inline\n",
    "fig = plt.figure()\n",
    "plt.xlabel('Batch Count')\n",
    "plt.ylabel('Training Accuracy')\n",
    "plt.plot(x[0:1000], history.train_acc[0:1000])\n",
    "plt.show()\n",
    "fig.savefig('self_train_emb_accuracy')"
   ]
  },
  {
   "cell_type": "code",
   "execution_count": 40,
   "metadata": {},
   "outputs": [
    {
     "data": {
      "image/png": "[encoded data removed]",
      "text/plain": [
       "<Figure size 432x288 with 1 Axes>"
      ]
     },
     "metadata": {
      "needs_background": "light"
     },
     "output_type": "display_data"
    }
   ],
   "source": [
    "fig = plt.figure()\n",
    "plt.xlabel('Batch Count')\n",
    "plt.ylabel('Training Loss')\n",
    "plt.plot(x[0:1000], history.train_loss[0:1000])\n",
    "plt.show()\n",
    "fig.savefig('self_train_emb_loss')"
   ]
  },
  {
   "cell_type": "code",
   "execution_count": 42,
   "metadata": {},
   "outputs": [
    {
     "data": {
      "image/png": "[encoded data removed]",
      "text/plain": [
       "<Figure size 432x288 with 1 Axes>"
      ]
     },
     "metadata": {
      "needs_background": "light"
     },
     "output_type": "display_data"
    }
   ],
   "source": [
    "\n",
    "%matplotlib inline\n",
    "fig = plt.figure()\n",
    "plt.xlabel('Threshold')\n",
    "plt.ylabel('F1 Score')\n",
    "plt.plot(threshold, f1_array)\n",
    "plt.show()\n",
    "fig.savefig('self_train_emb_F1_score')"
   ]
  },
  {
   "cell_type": "code",
   "execution_count": 45,
   "metadata": {},
   "outputs": [
    {
     "name": "stdout",
     "output_type": "stream",
     "text": [
      "130613/130613 [==============================] - 1s 10us/sample\n",
      "F1 score at threshold 0.1 is 0.5560083032213423\n",
      "F1 score at threshold 0.11 is 0.5648722986247544\n",
      "F1 score at threshold 0.12 is 0.57223113964687\n",
      "F1 score at threshold 0.13 is 0.5786868480261812\n",
      "F1 score at threshold 0.14 is 0.5857315397109658\n",
      "F1 score at threshold 0.15 is 0.5912306714679093\n",
      "F1 score at threshold 0.16 is 0.596867200275411\n",
      "F1 score at threshold 0.17 is 0.6026846224476411\n",
      "F1 score at threshold 0.18 is 0.6069859304957613\n",
      "F1 score at threshold 0.19 is 0.6105557056651355\n",
      "F1 score at threshold 0.2 is 0.6151528982199909\n",
      "F1 score at threshold 0.21 is 0.619384686560259\n",
      "F1 score at threshold 0.22 is 0.6225637181409296\n",
      "F1 score at threshold 0.23 is 0.6254266211604096\n",
      "F1 score at threshold 0.24 is 0.627552487776819\n",
      "F1 score at threshold 0.25 is 0.6305896032168984\n",
      "F1 score at threshold 0.26 is 0.6343184825760918\n",
      "F1 score at threshold 0.27 is 0.636192364898364\n",
      "F1 score at threshold 0.28 is 0.6382403046397435\n",
      "F1 score at threshold 0.29 is 0.6405023547880692\n",
      "F1 score at threshold 0.3 is 0.6430690537084399\n",
      "F1 score at threshold 0.31 is 0.6447545219638243\n",
      "F1 score at threshold 0.32 is 0.6454949072864978\n",
      "F1 score at threshold 0.33 is 0.6478412329779373\n",
      "F1 score at threshold 0.34 is 0.6483089214380826\n",
      "F1 score at threshold 0.35 is 0.6498680880848544\n",
      "F1 score at threshold 0.36 is 0.6505434782608696\n",
      "F1 score at threshold 0.37 is 0.6513338456471621\n",
      "F1 score at threshold 0.38 is 0.651379712397979\n",
      "F1 score at threshold 0.39 is 0.6520130088594819\n",
      "F1 score at threshold 0.4 is 0.6523390983838957\n",
      "F1 score at threshold 0.41 is 0.6522886314098887\n",
      "F1 score at threshold 0.42 is 0.6528599605522681\n",
      "F1 score at threshold 0.43 is 0.6536860008210662\n",
      "F1 score at threshold 0.44 is 0.6520888888888888\n",
      "F1 score at threshold 0.45 is 0.6488691583178354\n",
      "F1 score at threshold 0.46 is 0.6479489516864175\n",
      "F1 score at threshold 0.47 is 0.6468598142338684\n",
      "F1 score at threshold 0.48 is 0.6453459432553508\n",
      "F1 score at threshold 0.49 is 0.644146694344845\n",
      "F1 score at threshold 0.5 is 0.6421843177189409\n"
     ]
    }
   ],
   "source": [
    "pred_test_y = model.predict([test_X], batch_size=1024, verbose=1)\n",
    "threshold = []\n",
    "f1_array = []\n",
    "test_y = test_df['target'].values\n",
    "for thresh in np.arange(0.1, 0.501, 0.01):\n",
    "    thresh = np.round(thresh, 2)\n",
    "    threshold.append(thresh)\n",
    "    f1_score = metrics.f1_score(test_y, (pred_test_y>thresh).astype(int))\n",
    "    f1_array.append(f1_score)\n",
    "    print(\"F1 score at threshold {0} is {1}\".format(thresh, f1_score))\n"
   ]
  },
  {
   "cell_type": "code",
   "execution_count": 46,
   "metadata": {},
   "outputs": [
    {
     "data": {
      "image/png": "[encoded data removed]",
      "text/plain": [
       "<Figure size 432x288 with 1 Axes>"
      ]
     },
     "metadata": {
      "needs_background": "light"
     },
     "output_type": "display_data"
    }
   ],
   "source": [
    "fig = plt.figure()\n",
    "plt.xlabel('Threshold')\n",
    "plt.ylabel('F1 Score')\n",
    "plt.plot(threshold, f1_array)\n",
    "plt.show()\n",
    "fig.savefig('self_train_emb_F1_score')"
   ]
  },
  {
   "cell_type": "code",
   "execution_count": null,
   "metadata": {},
   "outputs": [],
   "source": []
  }
 ],
 "metadata": {
  "kernelspec": {
   "display_name": "Python 3",
   "language": "python",
   "name": "python3"
  },
  "language_info": {
   "codemirror_mode": {
    "name": "ipython",
    "version": 3
   },
   "file_extension": ".py",
   "mimetype": "text/x-python",
   "name": "python",
   "nbconvert_exporter": "python",
   "pygments_lexer": "ipython3",
   "version": "3.7.3"
  }
 },
 "nbformat": 4,
 "nbformat_minor": 2
}
